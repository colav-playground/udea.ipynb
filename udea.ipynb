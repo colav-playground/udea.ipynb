{
 "cells": [
  {
   "cell_type": "markdown",
   "id": "e0175a95-5fb6-479d-a494-b14d7e8b120c",
   "metadata": {},
   "source": [
    "# REST-API example impactu"
   ]
  },
  {
   "cell_type": "code",
   "execution_count": 1,
   "id": "df3e240a-624a-452f-ae5e-08b29e45abb7",
   "metadata": {},
   "outputs": [],
   "source": [
    "import pandas as pd\n",
    "import requests\n",
    "import json\n",
    "from IPython.display import JSON\n",
    "from unidecode import unidecode\n",
    "def flatten(xss):\n",
    "    return [x for xs in xss for x in xs]"
   ]
  },
  {
   "cell_type": "markdown",
   "id": "7a65fa5f-43f2-4aa8-a270-9db2673a875c",
   "metadata": {},
   "source": [
    "Obtain \"Uiversidad de Antioquia\" works"
   ]
  },
  {
   "cell_type": "code",
   "execution_count": 2,
   "id": "95dbcdbe-ce06-419a-b9c3-bba540ef03bc",
   "metadata": {},
   "outputs": [
    {
     "name": "stdout",
     "output_type": "stream",
     "text": [
      "123456789101112131415161718192021222324252627282930313233343536373839404142434445464748495051525354555657585960616263646566676869707172737475767778798081828384858687888990919293949596979899100101102103104105106107108109110111112113114115116117118119120121122123124125126127128129130131132133134135136137138139140141142143144145146147148149150151152153154155156157158159160161162163164165166167168169170171172173174175176177178179180181182183184185186187188189190191192193194195196197198199200201202203204205206207208209210211212213214215216217218219220221222223224225226227228229230231232233234235236237238239240241242243244245246247248249250251252253254255256257258259260261262263264265266267268269270271272273274275276277278279280281282283284285286287288289290291292293294295296297298299300301302303304305306307308309310311312313314315316317318319320321322323324325326327328329330331332333334335336337338339340341342343344345346347348349350351352353354355356357358359360361362363364365366367368369370371372373374375376377378379380381382383384385386387388389390391392393394395396397398399400401402403404405406407408409410411412413414415416417418419420421"
     ]
    }
   ],
   "source": [
    "import pandas as pd\n",
    "import requests\n",
    "#%%time\n",
    "DJ = []\n",
    "total = 105018 \n",
    "#total = 965\n",
    "page_ini = 1\n",
    "max_page = 250\n",
    "extra_page = 0\n",
    "if total%max_page != 0:\n",
    "    extra_page = 1\n",
    "page_end = total//max_page + extra_page\n",
    "for p in range(page_ini,page_end+1):\n",
    "    url = f'https://api.impactu.colav.co/affiliation/institution/03bp5hc83/research/products?max={max_page}&page={p}'\n",
    "    #url = f'https://api.impactu.colav.co/search/works?max={max_page}&page={p}&status=diamond&subjects=1_Library+science'\n",
    "    dj = requests.get(url)\n",
    "    if dj.status_code == 200:\n",
    "        print(p,end=\"\\r\")\n",
    "        jl = dj.json()['data']\n",
    "        for d in jl:\n",
    "            kk = d.pop('abstracts')\n",
    "        i = 0\n",
    "        for d in jl:\n",
    "            if len(jl[i]['authors']) > 10:\n",
    "                kk = jl.pop(i)\n",
    "            else:\n",
    "                i += 1        \n",
    "\n",
    "        \n",
    "        DJ = DJ +  jl"
   ]
  },
  {
   "cell_type": "code",
   "execution_count": 3,
   "id": "7ca064be-0ffa-45fa-ae64-14fad89ed26d",
   "metadata": {},
   "outputs": [
    {
     "data": {
      "text/plain": [
       "102165"
      ]
     },
     "execution_count": 3,
     "metadata": {},
     "output_type": "execute_result"
    }
   ],
   "source": [
    "len(DJ)"
   ]
  },
  {
   "cell_type": "markdown",
   "id": "da29bd81-3313-4fd4-a481-b885f9888230",
   "metadata": {},
   "source": [
    "save the list to a JSON file"
   ]
  },
  {
   "cell_type": "code",
   "execution_count": 4,
   "id": "367cba4b-88da-4af2-84ed-560286404efc",
   "metadata": {},
   "outputs": [],
   "source": [
    "f = open('udea.json','w')\n",
    "json.dump(DJ,f)\n",
    "f.close()"
   ]
  },
  {
   "cell_type": "code",
   "execution_count": 6,
   "id": "c02e6be6-da81-4b9f-a657-df1d60f5d734",
   "metadata": {},
   "outputs": [
    {
     "name": "stdout",
     "output_type": "stream",
     "text": [
      "-rw-r--r-- 1 restrepo restrepo 860M Feb 13 13:30 udea.json\n"
     ]
    }
   ],
   "source": [
    "ls -lh udea.json"
   ]
  },
  {
   "cell_type": "code",
   "execution_count": 2,
   "id": "e230cb90-0684-41dd-b107-68342c65f66e",
   "metadata": {},
   "outputs": [],
   "source": [
    "f = open('udea.json','r')\n",
    "DJ = json.load(f)\n",
    "f.close()"
   ]
  },
  {
   "cell_type": "markdown",
   "id": "4611786d-3970-4abd-b87b-4cff27c10834",
   "metadata": {},
   "source": [
    "## Analysis in pandas"
   ]
  },
  {
   "cell_type": "markdown",
   "id": "faeaeb2a-9c85-492b-8332-f83555de8948",
   "metadata": {},
   "source": [
    "### Authors"
   ]
  },
  {
   "cell_type": "code",
   "execution_count": 74,
   "id": "1d32c2f9-fae8-4f16-88a9-6f08ffc8712e",
   "metadata": {},
   "outputs": [],
   "source": [
    "df = pd.DataFrame(DJ)"
   ]
  },
  {
   "cell_type": "code",
   "execution_count": 75,
   "id": "9be33ea6-12e0-4fd4-970c-0f37b4dab039",
   "metadata": {},
   "outputs": [
    {
     "data": {
      "text/plain": [
       "(102165, 23)"
      ]
     },
     "execution_count": 75,
     "metadata": {},
     "output_type": "execute_result"
    }
   ],
   "source": [
    "df.shape"
   ]
  },
  {
   "cell_type": "markdown",
   "id": "8d74168c-a045-4b7d-a6e4-1c5ae5a82b44",
   "metadata": {},
   "source": [
    "search authors"
   ]
  },
  {
   "cell_type": "code",
   "execution_count": 6,
   "id": "00b041e3-4fe6-4785-9a2e-a3316f73f018",
   "metadata": {},
   "outputs": [],
   "source": [
    "full_name = 'diego alejandro restrepo quintero'\n",
    "#full_name = 'carlos alberto duque echeverri'\n",
    "dfa = df[df.authors.apply(lambda L: any([True for d in L if unidecode(str(d.get('full_name')).lower()) == full_name ]))]"
   ]
  },
  {
   "cell_type": "markdown",
   "id": "e8ffdc87-a996-4b6b-8c19-e9f36d71e3e2",
   "metadata": {},
   "source": [
    "Check the json:"
   ]
  },
  {
   "cell_type": "code",
   "execution_count": 7,
   "id": "fefef276-181d-40e8-9c53-3a86b704d513",
   "metadata": {},
   "outputs": [],
   "source": [
    "#JSON(dfa.authors.iloc[0])"
   ]
  },
  {
   "cell_type": "markdown",
   "id": "dea62903-0191-4d04-9b12-33eed5994032",
   "metadata": {},
   "source": [
    "De conformidad  con lo dispuesto en el Acuerdo Superior 083 del 22 de julio de 1996 (Estatuto profesoral) la carrera docente de la institución se compone  de las categorías de profesor auxiliar, profesor asistente, profesor asociado y profesor titular. "
   ]
  },
  {
   "cell_type": "code",
   "execution_count": 8,
   "id": "044b148b-cb1d-488f-8441-a2462c81e2d7",
   "metadata": {},
   "outputs": [],
   "source": [
    "#JSON(df.authors.iloc[80049])"
   ]
  },
  {
   "cell_type": "markdown",
   "id": "b5c03d3f-d3d7-4d7c-b810-f4593d6bc903",
   "metadata": {},
   "source": [
    "remove not scienti authors..."
   ]
  },
  {
   "cell_type": "code",
   "execution_count": 77,
   "id": "b4fb944e-cbd1-4741-b801-fc30dc48ad73",
   "metadata": {},
   "outputs": [],
   "source": [
    "df['scienti_authors'] = df.authors.apply(lambda L: [\n",
    "                          {'COD_RH':d.get('external_ids')[0].get('id'),\n",
    "                           'last_names':d.get('last_names'),\n",
    "                           'first_names':d.get('first_names'),\n",
    "                           'sex':d.get('sex').lower(),\n",
    "                           'age':d.get('age'),\n",
    "                           'affiliations': [{'name': dd.get('name'),\n",
    "                                             'id': dd.get('id'),\n",
    "                                             'type': dd.get('types')[0].get('type')\n",
    "                                            } for dd in d.get('affiliations')],\n",
    "                           'ranking': [dd for dd in d.get('ranking') if dd.get('source') == 'categoría_laboral' ]\n",
    "                          } for d in L \n",
    "                            if d.get('sex') and \n",
    "                            any([True for dd in d.get('external_ids') \n",
    "                                 if dd.get('provenance') == 'scienti' and dd.get('source') == 'scienti'])   ])"
   ]
  },
  {
   "cell_type": "code",
   "execution_count": 78,
   "id": "9f50aa4c-7f8c-4017-b54d-f04720c51d25",
   "metadata": {},
   "outputs": [
    {
     "data": {
      "text/plain": [
       "(125680, 7)"
      ]
     },
     "execution_count": 78,
     "metadata": {},
     "output_type": "execute_result"
    }
   ],
   "source": [
    "L = df['scienti_authors'].to_list()\n",
    "L = flatten(L)\n",
    "dfL = pd.DataFrame(L)\n",
    "del L\n",
    "dfL.shape"
   ]
  },
  {
   "cell_type": "code",
   "execution_count": 79,
   "id": "14adbe77-347a-43ef-bff9-da9b7838e5d6",
   "metadata": {},
   "outputs": [],
   "source": [
    "udea = dfL[dfL['affiliations'].apply(lambda L: [d.get('name') for d in L \n",
    "         if d.get('type') == 'Education' and d.get('name') == 'Universidad de Antioquia']).apply(len)>0\n",
    "         ].reset_index(drop=True)"
   ]
  },
  {
   "cell_type": "code",
   "execution_count": 80,
   "id": "fbd0df31-5644-4c69-9f67-91b0f32693c4",
   "metadata": {},
   "outputs": [
    {
     "data": {
      "text/plain": [
       "['Universidad de Antioquia', 'Universidad de Pamplona']"
      ]
     },
     "execution_count": 80,
     "metadata": {},
     "output_type": "execute_result"
    }
   ],
   "source": [
    "udea['affiliations'].apply(lambda L: [d.get('name') for d in L \n",
    "         if d.get('type') == 'Education']).iloc[0]"
   ]
  },
  {
   "cell_type": "code",
   "execution_count": 81,
   "id": "161078a0-78eb-4783-88bf-8f3c71b4e786",
   "metadata": {},
   "outputs": [
    {
     "data": {
      "text/plain": [
       "[{'name': 'Universidad de Antioquia', 'id': '03bp5hc83', 'type': 'Education'},\n",
       " {'name': 'Instituto de Biología',\n",
       "  'id': '03bp5hc83_3_21420003_3513',\n",
       "  'type': 'department'},\n",
       " {'name': 'Facultad de Ciencias Exactas y Naturales',\n",
       "  'id': '03bp5hc83_3',\n",
       "  'type': 'faculty'},\n",
       " {'name': 'Gebiomic (genética y Bioquímica de Microorganismos)',\n",
       "  'id': 'COL0014064',\n",
       "  'type': 'group'},\n",
       " {'name': 'Corporación para Investigaciones Biológicas',\n",
       "  'id': '03evkbw14',\n",
       "  'type': 'Facility'},\n",
       " {'name': 'Universidad de Pamplona', 'id': '04dfr7a85', 'type': 'Education'},\n",
       " {'name': 'Genética, Regeneración y Cáncer',\n",
       "  'id': 'COL0006769',\n",
       "  'type': 'group'}]"
      ]
     },
     "execution_count": 81,
     "metadata": {},
     "output_type": "execute_result"
    }
   ],
   "source": [
    "udea.affiliations.iloc[0]"
   ]
  },
  {
   "cell_type": "code",
   "execution_count": 82,
   "id": "7de16f0e-2f71-4ae1-9648-45173ea318b4",
   "metadata": {},
   "outputs": [],
   "source": [
    "ror = '03bp5hc83'\n",
    "udea['faculty'] = udea['affiliations'].apply(lambda L: [d.get('name') for d in L \n",
    "         if d.get('type') == 'faculty' and d.get('id').find(ror) > -1  ]).apply(lambda L: L  if len(L) > 0 else \n",
    "                                                ['unknown']).str[0]\n",
    "udea['department'] = udea['affiliations'].apply(lambda L: [d.get('name') for d in L \n",
    "         if d.get('type') == 'department' and d.get('id').find(ror) > -1 ]).apply(lambda L: L  if len(L) > 0 else \n",
    "                                                ['unknown']).str[0]\n",
    "\n",
    "udea['group'] = udea['affiliations'].apply(lambda L: [d.get('name') for d in L \n",
    "         if d.get('type') == 'group' ]).apply(lambda L: L  if len(L) > 0 else \n",
    "                                                ['unknown']).str[0]"
   ]
  },
  {
   "cell_type": "code",
   "execution_count": 83,
   "id": "aac0e17d-da5e-4014-956e-89fa9ec02e01",
   "metadata": {},
   "outputs": [
    {
     "data": {
      "text/plain": [
       "(119360, 10)"
      ]
     },
     "execution_count": 83,
     "metadata": {},
     "output_type": "execute_result"
    }
   ],
   "source": [
    "udea.shape"
   ]
  },
  {
   "cell_type": "code",
   "execution_count": 84,
   "id": "b5fe5617-b730-43cf-b950-b41503f67023",
   "metadata": {},
   "outputs": [
    {
     "data": {
      "text/plain": [
       "(4607, 10)"
      ]
     },
     "execution_count": 84,
     "metadata": {},
     "output_type": "execute_result"
    }
   ],
   "source": [
    "udea.drop_duplicates(subset=['COD_RH','sex','age','faculty','department','group']).shape"
   ]
  },
  {
   "cell_type": "code",
   "execution_count": 85,
   "id": "bc920e9a-3d9d-4af2-893f-2581a92862d5",
   "metadata": {},
   "outputs": [
    {
     "data": {
      "text/plain": [
       "(4607, 10)"
      ]
     },
     "execution_count": 85,
     "metadata": {},
     "output_type": "execute_result"
    }
   ],
   "source": [
    "udea.drop_duplicates(subset=['COD_RH']).shape"
   ]
  },
  {
   "cell_type": "code",
   "execution_count": 86,
   "id": "9312c9b9-fed8-40c8-bfb2-4016004eade9",
   "metadata": {},
   "outputs": [],
   "source": [
    "udea = udea.drop_duplicates(subset=['COD_RH']).reset_index(drop=True)"
   ]
  },
  {
   "cell_type": "code",
   "execution_count": 87,
   "id": "d982f9f2-0b0e-4632-be1b-955d4b5c6b10",
   "metadata": {},
   "outputs": [
    {
     "name": "stdout",
     "output_type": "stream",
     "text": [
      "46.0 % of 4605\n"
     ]
    }
   ],
   "source": [
    "fm = udea['sex'].value_counts()\n",
    "print(f\"{round(fm['mujer']/(fm['mujer']+fm['hombre'])*100,1)} % of {fm['mujer']+fm['hombre']}\")"
   ]
  },
  {
   "cell_type": "code",
   "execution_count": 88,
   "id": "7d7953bf-1dd3-415b-b91c-33316854facb",
   "metadata": {},
   "outputs": [
    {
     "name": "stdout",
     "output_type": "stream",
     "text": [
      "UdeA: 46.0 % of 4605\n",
      "Facultad de Ciencias Exactas y Naturales: 25.5 % of 294\n",
      "   Instituto de Biología: 44.0 % of 75\n",
      "   Instituto de Química: 26.2 % of 80\n",
      "   Instituto de Física: 12.7 % of 79\n",
      "   unknown: 33.3 % of 3\n",
      "   Departamento de Matemáticas: 16.7 % of 54\n",
      "   Programa Ingeniería Civil: 0.0 % of 1\n",
      "   Programa Regionalización Urabá: 50.0 % of 2\n",
      "Facultad de Medicina: 43.9 % of 481\n",
      "   Departamento de Cirugía: 23.7 % of 59\n",
      "   Departamento de Farmacología y Toxicología: 50.0 % of 22\n",
      "   Departamento de Microbiología y Parasitología: 56.1 % of 57\n",
      "   Departamento de Pediatría y Puericultura: 54.1 % of 74\n",
      "   Departamento de Medicina Interna: 29.9 % of 77\n",
      "   Instituto de Investigaciones Médicas: 46.2 % of 39\n",
      "   Centro de Investigaciones Médicas: 50.0 % of 8\n",
      "   Departamento de Fisiología: 40.7 % of 27\n",
      "   Departamento de Siquiatría y Ciencias del Comportamiento Humano: 29.4 % of 17\n",
      "   Departamento de Morfología: 33.3 % of 9\n",
      "   Departamento de Bioquímica: 33.3 % of 3\n",
      "   Departamento de Obstetricia y Ginecología: 56.2 % of 16\n",
      "   Departamento de Educación Médica: 50.0 % of 22\n",
      "   Departamento de Medicina Física y Rehabilitación: 58.3 % of 12\n",
      "   Departamento de Patología: 42.9 % of 7\n",
      "   Departamento de Medicina Preventiva y Salud Pública: 66.7 % of 21\n",
      "   Departamento de Radiología y Radioterapia: 45.5 % of 11\n",
      "unknown: 48.0 % of 1926\n",
      "   unknown: 48.0 % of 1926\n",
      "Escuela de Microbiología: 64.8 % of 88\n",
      "   Departamento de Formación Académica: 64.8 % of 88\n",
      "Facultad de Ciencias Agrarias: 40.9 % of 93\n",
      "   Departamento de  Producción Agropecuaria: 35.5 % of 31\n",
      "   Escuela de Medicina Veterinaria: 42.1 % of 57\n",
      "   Escuela de Producción Agropecuaria: 60.0 % of 5\n",
      "Facultad de Ingeniería: 28.8 % of 313\n",
      "   Departamento de Ingeniería Metalúrgica: 26.5 % of 34\n",
      "   Departamento de Ingeniería Mecánica: 9.5 % of 21\n",
      "   Departamento de Ingeniería Sanitaria  y Ambiental: 33.3 % of 42\n",
      "   Programa Bioingeniería: 40.9 % of 22\n",
      "   Departamento de Ingeniería Quimica: 32.1 % of 28\n",
      "   Departamento de Ingeniería Química: 75.0 % of 12\n",
      "   Departamento de Ingeniería Eléctrica: 5.3 % of 19\n",
      "   Departamento de Ingeniería Electrónica: 17.4 % of 23\n",
      "   Programa Ingeniería de Telecomunicaciones: 11.1 % of 18\n",
      "   Programa Ingeniería Civil: 46.2 % of 13\n",
      "   Departamento de Ingeniería Sanitaria y Ambiental: 22.2 % of 9\n",
      "   Departamento de Ingeniería Industrial: 33.3 % of 33\n",
      "   Departamento de Ingeniería de Sistemas: 30.0 % of 30\n",
      "   Decanatura Facultad de Ingeniería: 37.5 % of 8\n",
      "   Programa de Ingeniería de Telecomunicaciones: 0.0 % of 1\n",
      "Escuela de Nutrición y Dietética: 81.5 % of 54\n",
      "   Departamento de Formación Académica: 81.5 % of 54\n",
      "Facultad de Ciencias Farmacéuticas y Alimentarias: 53.8 % of 78\n",
      "   Departamento de Farmacia: 45.8 % of 48\n",
      "   Departamento de Alimentos: 66.7 % of 30\n",
      "Facultad de Odontología: 52.3 % of 86\n",
      "   Departamento de Estudios Básicos Integrados: 52.3 % of 86\n",
      "Facultad de Ciencias Sociales y Humanas: 48.6 % of 183\n",
      "   Departamento de Historia: 44.1 % of 34\n",
      "   Departamento de Antropología: 54.5 % of 33\n",
      "   Departamento de Sicología: 48.5 % of 33\n",
      "   Departamento de Trabajo Social: 69.7 % of 33\n",
      "   Departamento de Sociología: 27.6 % of 29\n",
      "   Decanatura Facultad de Ciencias Sociales y Humanas: 60.0 % of 5\n",
      "   Departamento de Psicoanálisis: 40.0 % of 15\n",
      "   Centro de Investigación y Extensión en Ciencias Sociales y Humanas: 0.0 % of 1\n",
      "Facultad Nacional de Salud Pública: 45.7 % of 92\n",
      "   Departamento de Ciencias Específicas: 43.6 % of 39\n",
      "   Departamento de Ciencias Básicas: 48.1 % of 52\n",
      "   Decanatura Facultad Nacional de Salud Pública: 0.0 % of 1\n",
      "Corporación Ambiental: 37.5 % of 8\n",
      "   unknown: 28.6 % of 7\n",
      "   Programa Regionalización Urabá: 100.0 % of 1\n",
      "Facultad de Educación: 63.3 % of 128\n",
      "   Departamento de Pedagogía: 55.6 % of 45\n",
      "   Departamento de Enseñanza de las Ciencias y las Artes: 57.8 % of 45\n",
      "   Departamento de Educación Infantil: 87.9 % of 33\n",
      "   Departamento Educación Avanzada: 33.3 % of 3\n",
      "   Centro de Educación A Distancia: 0.0 % of 1\n",
      "   Departamento de Extensión y Educación A Distancia: 0.0 % of 1\n",
      "Facultad de Enfermería: 74.2 % of 93\n",
      "   Departamento de Formación Básica Profesional: 71.4 % of 63\n",
      "   Departamento de Extensión y Posgrados: 81.8 % of 11\n",
      "   Departamento de Formación Profesional: 83.3 % of 18\n",
      "   Decanatura de Enfermería: 0.0 % of 1\n",
      "Facultad de Ciencias Económicas: 26.7 % of 120\n",
      "   Departamento de Ciencias Administrativas: 32.5 % of 40\n",
      "   Departamento de Economía: 24.3 % of 37\n",
      "   Departamento de Estadísticas y Matemáticas: 0.0 % of 7\n",
      "   Departamento de Ciencias Económicas: 25.0 % of 8\n",
      "   Departamento de Ciencias Contables: 26.9 % of 26\n",
      "   Decanatura Facultad de Ciencias Económicas: 50.0 % of 2\n",
      "Instituto de Filosofía: 22.9 % of 48\n",
      "   Departamento de Formación Académica: 21.3 % of 47\n",
      "   Dirección Instituto de Filosofía: 100.0 % of 1\n",
      "Escuela de Idiomas: 57.8 % of 64\n",
      "   Departamento de Formación Académica: 57.5 % of 40\n",
      "   Sección de Servicios y Extensión: 58.3 % of 24\n",
      "Dirección de Regionalización: 43.2 % of 44\n",
      "   Programa Regionalización Oriente: 45.0 % of 20\n",
      "   Programa Regionalización Urabá: 35.7 % of 14\n",
      "   Programa Regionalización Suroeste: 25.0 % of 4\n",
      "   Programa Regionalización Bajo Cauca: 66.7 % of 6\n",
      "Facultad de Comunicaciones y Filología: 47.8 % of 115\n",
      "   Departamento de Formación Académica: 47.4 % of 76\n",
      "   Departamento de Comunicación Social: 50.0 % of 20\n",
      "   Decanatura Facultad de Comunicaciones: 100.0 % of 1\n",
      "   Departamento de Lingüística y Literatura: 44.4 % of 18\n",
      "Facultad de Artes: 56.2 % of 73\n",
      "   Departamento de Música: 33.3 % of 18\n",
      "   Departamento de Artes Visuales: 55.3 % of 38\n",
      "   Departamento de Teatro: 82.4 % of 17\n",
      "Instituto de Estudios Políticos: 42.9 % of 28\n",
      "   unknown: 42.9 % of 28\n",
      "Facultad de Derecho: 53.1 % of 81\n",
      "   Departamento de Formación Universitaria: 48.2 % of 56\n",
      "   Departamento de Prácticas: 70.0 % of 10\n",
      "   Sección de Derecho Político, Ciencias Políticas, Penal y Procesal: 25.0 % of 4\n",
      "   Sección de Derecho Privado y Laboral: 62.5 % of 8\n",
      "   Centro de Investigaciones en Derecho: 100.0 % of 1\n",
      "   Sección de Derecho Político, Ciencias Políticas: 100.0 % of 2\n",
      "Escuela Interamericana de Bibliotecología: 59.5 % of 37\n",
      "   Dirección Escuela de Bibliotecología: 66.7 % of 33\n",
      "   Escuela de Bibliotecología: 0.0 % of 4\n",
      "Instituto de Educación Física: 40.7 % of 54\n",
      "   Departamento de Educación Física y Extensión: 41.5 % of 53\n",
      "   Sección de Medicina Deportiva: 0.0 % of 1\n",
      "Instituto de Estudios Regionales: 54.2 % of 24\n",
      "   Programa de Investigación: 66.7 % of 6\n",
      "   unknown: 50.0 % of 18\n"
     ]
    }
   ],
   "source": [
    "fm = udea['sex'].value_counts()\n",
    "print(f\"UdeA: {round(fm['mujer']/(fm['mujer']+fm['hombre'])*100,1)} % of {fm['mujer']+fm['hombre']}\")\n",
    "for f in udea.faculty.unique() :\n",
    "    udea_f = udea[udea['faculty'] == f]\n",
    "    fm = udea_f['sex'].value_counts()\n",
    "    if not fm.get('mujer'):\n",
    "        fm['mujer'] = 0\n",
    "    if not fm.get('hombre'):\n",
    "        fm['hombre'] = 0        \n",
    "    print(f\"{f}: {round(fm['mujer']/(fm['mujer']+fm['hombre'])*100,1)} % of {fm['mujer']+fm['hombre']}\")\n",
    "    for ff in  udea_f.department.unique():\n",
    "        udea_d = udea[ ((udea['faculty'] == f) & (udea['department'] == ff)) ]\n",
    "        fm = udea_d['sex'].value_counts()\n",
    "        if not fm.get('mujer'):\n",
    "            fm['mujer'] = 0\n",
    "        if not fm.get('hombre'):\n",
    "            fm['hombre'] = 0        \n",
    "        print(f\"   {ff}: {round(fm['mujer']/(fm['mujer']+fm['hombre'])*100,1)} % of {fm['mujer']+fm['hombre']}\")\n",
    "\n",
    "    #if f == 'Escuela de Microbiología':\n",
    "    #    break"
   ]
  },
  {
   "cell_type": "code",
   "execution_count": 89,
   "id": "6f1935f5-ca96-43b2-9129-c8110c0edf36",
   "metadata": {},
   "outputs": [
    {
     "name": "stdout",
     "output_type": "stream",
     "text": [
      "AUXILIAR: 46.5 % of 1296\n",
      "ASISTENTE: 46.7 % of 1984\n",
      "ASOCIADO: 43.1 % of 1189\n",
      "TITULAR: 41.3 % of 809\n"
     ]
    }
   ],
   "source": [
    "for r in [ 'AUXILIAR' , 'ASISTENTE','ASOCIADO','TITULAR']:\n",
    "    fm = udea[udea['ranking'].apply(lambda L: r in [d.get('rank') for d in L])]['sex'].value_counts()\n",
    "    print(f\"{r}: {round(fm['mujer']/(fm['mujer']+fm['hombre'])*100,1)} % of {fm['mujer']+fm['hombre']}\")"
   ]
  },
  {
   "cell_type": "code",
   "execution_count": 90,
   "id": "feec00da-8def-4aed-a0d5-b4d8818837fb",
   "metadata": {},
   "outputs": [],
   "source": [
    "f = 'Facultad de Ciencias Exactas y Naturales'\n",
    "ff = 'Instituto de Física'\n",
    "udea_f = udea[ ((udea['faculty'] == f)) ]\n",
    "udea_d = udea[ ((udea['faculty'] == f) & (udea['department'] == ff)) ]"
   ]
  },
  {
   "cell_type": "code",
   "execution_count": 91,
   "id": "363a4d30-11be-4e4e-8f6c-b70e3a761348",
   "metadata": {},
   "outputs": [
    {
     "name": "stdout",
     "output_type": "stream",
     "text": [
      "AUXILIAR: 26.1 % of 111\n",
      "ASISTENTE: 26.4 % of 208\n",
      "ASOCIADO: 21.4 % of 126\n",
      "TITULAR: 20.0 % of 95\n"
     ]
    }
   ],
   "source": [
    "for r in [ 'AUXILIAR' , 'ASISTENTE','ASOCIADO','TITULAR']:\n",
    "    fm = udea_f[udea_f['ranking'].apply(lambda L: r in [d.get('rank') for d in L])]['sex'].value_counts()\n",
    "    print(f\"{r}: {round(fm['mujer']/(fm['mujer']+fm['hombre'])*100,1)} % of {fm['mujer']+fm['hombre']}\")"
   ]
  },
  {
   "cell_type": "code",
   "execution_count": 92,
   "id": "1a32cf87-ef85-4eec-99f2-84e171855508",
   "metadata": {},
   "outputs": [
    {
     "name": "stdout",
     "output_type": "stream",
     "text": [
      "AUXILIAR: 15.4 % of 26\n",
      "ASISTENTE: 11.1 % of 54\n",
      "ASOCIADO: 3.1 % of 32\n",
      "TITULAR: 3.6 % of 28\n"
     ]
    }
   ],
   "source": [
    "for r in [ 'AUXILIAR' , 'ASISTENTE','ASOCIADO','TITULAR']:\n",
    "    fm = udea_d[udea_d['ranking'].apply(lambda L: r in [d.get('rank') for d in L])]['sex'].value_counts()\n",
    "    print(f\"{r}: {round(fm['mujer']/(fm['mujer']+fm['hombre'])*100,1)} % of {fm['mujer']+fm['hombre']}\")"
   ]
  },
  {
   "cell_type": "code",
   "execution_count": 93,
   "id": "650d2d37-cbfc-46c3-aa41-55d6423fe64e",
   "metadata": {},
   "outputs": [],
   "source": [
    "import matplotlib.pyplot as plt\n",
    "import numpy as np"
   ]
  },
  {
   "cell_type": "code",
   "execution_count": 94,
   "id": "c5e7fd9f-fc63-4ce7-8723-38ca730e09ff",
   "metadata": {},
   "outputs": [
    {
     "data": {
      "image/png": "[encoded data removed]",
      "text/plain": [
       "<Figure size 640x480 with 1 Axes>"
      ]
     },
     "metadata": {},
     "output_type": "display_data"
    }
   ],
   "source": [
    "kk = udea['age'].sort_values().dropna().astype(int).value_counts()\n",
    "\n",
    "age = pd.DataFrame()\n",
    "\n",
    "age['age'] = kk.keys()\n",
    "\n",
    "age['counts'] = kk.values\n",
    "\n",
    "age = age.sort_values('age')\n",
    "\n",
    "plt.bar(age['age'],age['counts'])\n",
    "plt.xlabel('Edad', size = 12)\n",
    "plt.ylabel('Profesores', size = 12)\n",
    "plt.title('Distribución de edad profesores UdeA')\n",
    "plt.grid()"
   ]
  },
  {
   "cell_type": "code",
   "execution_count": 95,
   "id": "ee4cb691-b8ec-408d-9b96-07bd5862b99a",
   "metadata": {},
   "outputs": [],
   "source": [
    "f = 'Facultad de Ciencias Exactas y Naturales'\n",
    "ff = 'Instituto de Física'\n",
    "udea_f = udea[ ((udea['faculty'] == f)) ]\n",
    "udea_d = udea[ ((udea['faculty'] == f) & (udea['department'] == ff)) ]"
   ]
  },
  {
   "cell_type": "code",
   "execution_count": 96,
   "id": "9c10ab2e-f3ff-4c0f-ab82-80728ad43940",
   "metadata": {},
   "outputs": [
    {
     "data": {
      "image/png": "[encoded data removed]",
      "text/plain": [
       "<Figure size 640x480 with 1 Axes>"
      ]
     },
     "metadata": {},
     "output_type": "display_data"
    }
   ],
   "source": [
    "kk = udea_f['age'].sort_values().dropna().astype(int).value_counts()\n",
    "\n",
    "age = pd.DataFrame()\n",
    "\n",
    "age['age'] = kk.keys()\n",
    "\n",
    "age['counts'] = kk.values\n",
    "\n",
    "age = age.sort_values('age')\n",
    "\n",
    "plt.bar(age['age'],age['counts'])\n",
    "plt.xlabel('Edad', size = 12)\n",
    "plt.ylabel('Profesores', size = 12)\n",
    "plt.title('Distribución de edad profesores FCEN')\n",
    "plt.grid()"
   ]
  },
  {
   "cell_type": "code",
   "execution_count": 97,
   "id": "e6d3f366-93ea-4278-aa75-71aa41b89bb1",
   "metadata": {},
   "outputs": [
    {
     "data": {
      "image/png": "[encoded data removed]",
      "text/plain": [
       "<Figure size 640x480 with 1 Axes>"
      ]
     },
     "metadata": {},
     "output_type": "display_data"
    }
   ],
   "source": [
    "kk = udea_d['age'].sort_values().dropna().astype(int).value_counts()\n",
    "\n",
    "age = pd.DataFrame()\n",
    "\n",
    "age['age'] = kk.keys()\n",
    "\n",
    "age['counts'] = kk.values\n",
    "\n",
    "age = age.sort_values('age')\n",
    "\n",
    "plt.bar(age['age'],age['counts'])\n",
    "plt.xlabel('Edad', size = 12)\n",
    "plt.ylabel('Profesores', size = 12)\n",
    "plt.title('Distribución de edad profesores Instituto de Física')\n",
    "plt.grid()"
   ]
  },
  {
   "cell_type": "code",
   "execution_count": 98,
   "id": "c7a6891c-f861-4d3d-aa20-946cdbce3602",
   "metadata": {},
   "outputs": [],
   "source": [
    "y = 2020\n",
    "dfy = df[df.year_published == y]"
   ]
  },
  {
   "cell_type": "code",
   "execution_count": 99,
   "id": "d9b9c183-661e-4315-9ec3-68c10e62966d",
   "metadata": {},
   "outputs": [],
   "source": [
    "    L = dfy['scienti_authors'].to_list()\n",
    "    L = flatten(L)\n",
    "\n",
    "    dfL = pd.DataFrame(L)"
   ]
  },
  {
   "cell_type": "code",
   "execution_count": 100,
   "id": "db4b1611-6edb-4f7f-a9b3-6bcf99877c13",
   "metadata": {},
   "outputs": [
    {
     "data": {
      "text/plain": [
       "(7080, 7)"
      ]
     },
     "execution_count": 100,
     "metadata": {},
     "output_type": "execute_result"
    }
   ],
   "source": [
    "dfL.shape"
   ]
  },
  {
   "cell_type": "code",
   "execution_count": 101,
   "id": "1792843c-7fd7-438d-ad8c-12dd88e70196",
   "metadata": {},
   "outputs": [
    {
     "data": {
      "text/plain": [
       "(2342, 7)"
      ]
     },
     "execution_count": 101,
     "metadata": {},
     "output_type": "execute_result"
    }
   ],
   "source": [
    "dfL.drop_duplicates('COD_RH').shape"
   ]
  },
  {
   "cell_type": "code",
   "execution_count": 102,
   "id": "5b5b869e-03c0-404c-9ce8-7299eb89dfce",
   "metadata": {},
   "outputs": [
    {
     "data": {
      "text/plain": [
       "(102165, 24)"
      ]
     },
     "execution_count": 102,
     "metadata": {},
     "output_type": "execute_result"
    }
   ],
   "source": [
    "df.shape"
   ]
  },
  {
   "cell_type": "code",
   "execution_count": 103,
   "id": "e225cf32-0353-4a4b-8332-347232d3b6b0",
   "metadata": {},
   "outputs": [],
   "source": [
    "CHECK_OPENALEX = False # Count larger that OpenAlex is expected\n",
    "if CHECK_OPENALEX:\n",
    "    df = df[df['types'].apply(lambda L: any([True for d in L \n",
    "                                         if d.get('source') == 'openalex' #or\n",
    "                                             #d.get('type') == 'Artículo'\n",
    "                                        ]))].reset_index(drop = True)"
   ]
  },
  {
   "cell_type": "code",
   "execution_count": 104,
   "id": "e357308a-3e2d-4daa-81ff-444dfea42a09",
   "metadata": {},
   "outputs": [],
   "source": [
    "# df = df[df['types'].apply(lambda L: 'openalex' not in [d.get('source') for d in L])]\n",
    "# df = df[df['types'].apply(lambda L: 'Artículo' not in [d.get('type') for d in L])].reset_index(drop=True)"
   ]
  },
  {
   "cell_type": "code",
   "execution_count": 105,
   "id": "9c2be87c-59c3-481a-8900-23d1c30e8495",
   "metadata": {},
   "outputs": [
    {
     "data": {
      "text/plain": [
       "(102165, 24)"
      ]
     },
     "execution_count": 105,
     "metadata": {},
     "output_type": "execute_result"
    }
   ],
   "source": [
    "df.shape"
   ]
  },
  {
   "cell_type": "code",
   "execution_count": 106,
   "id": "c3398316-97e9-4b8c-a5f2-f9ea0d0d9b0a",
   "metadata": {},
   "outputs": [],
   "source": [
    "df['openalex'] = df['external_ids'].apply(lambda L: [d.get('id') for d in L if d.get('source') == 'openalex']).str[0]"
   ]
  },
  {
   "cell_type": "code",
   "execution_count": 107,
   "id": "12613a4b-7a2f-46f1-bff5-57494943d798",
   "metadata": {},
   "outputs": [
    {
     "data": {
      "text/plain": [
       "(48224, 25)"
      ]
     },
     "execution_count": 107,
     "metadata": {},
     "output_type": "execute_result"
    }
   ],
   "source": [
    "df.drop_duplicates(subset=['openalex']).shape"
   ]
  },
  {
   "cell_type": "code",
   "execution_count": 128,
   "id": "7202caae-e2cb-4ba8-8adf-66184bbe23e7",
   "metadata": {},
   "outputs": [],
   "source": [
    "FACULTY = False\n",
    "DEPARTMENT = False\n",
    "UDEA = pd.DataFrame()\n",
    "w = []\n",
    "for y in [y for y in set(df.year_published.fillna(0).astype(int)) if y > 0]:\n",
    "    dfy = df[df.year_published == y]\n",
    "    if dfy.empty:\n",
    "        continue\n",
    "    L = dfy['scienti_authors'].to_list()\n",
    "    L = flatten(L)\n",
    "    if not L:\n",
    "        continue\n",
    "    dfL = pd.DataFrame(L)\n",
    "    del L\n",
    "\n",
    "    # Filter pure UdeA authors\n",
    "    udeay = dfL[dfL['affiliations'].apply(lambda L: [d.get('name') for d in L \n",
    "         if d.get('type') == 'Education' and d.get('name') == 'Universidad de Antioquia']).apply(len)>0\n",
    "         ].reset_index(drop=True)   \n",
    "\n",
    "    udeay['faculty'] = udeay['affiliations'].apply(lambda L: [d.get('name') for d in L \n",
    "         if d.get('type') == 'faculty' and d.get('id').find(ror) > -1  ]).apply(lambda L: L  if len(L) > 0 else \n",
    "                                                ['unknown']).str[0]\n",
    "    udeay['department'] = udeay['affiliations'].apply(lambda L: [d.get('name') for d in L \n",
    "         if d.get('type') == 'department' and d.get('id').find(ror) > -1 ]).apply(lambda L: L  if len(L) > 0 else \n",
    "                                                ['unknown']).str[0]\n",
    "    udeay['group'] = udeay['affiliations'].apply(lambda L: [d.get('name') for d in L \n",
    "         if d.get('type') == 'group' ]).apply(lambda L: L  if len(L) > 0 else \n",
    "                                                ['unknown']).str[0]    \n",
    "    udeay = udeay.drop_duplicates(subset=['COD_RH']).reset_index(drop=True)\n",
    "\n",
    "    udeay['year'] = y\n",
    "    UDEA = pd.concat((UDEA,udeay)) \n",
    "    \n",
    "    if FACULTY:\n",
    "        f = 'Facultad de Ciencias Exactas y Naturales'\n",
    "        udeay = udeay[ ((udeay['faculty'] == f)) ]\n",
    "    if DEPARTMENT:       \n",
    "        ff = 'Instituto de Física'\n",
    "        udeay = udeay[ ((udeay['faculty'] == f) & (udeay['department'] == ff)) ]\n",
    "    \n",
    "    #.drop_duplicates(subset=['COD_RH']).reset_index(drop=True)\n",
    "\n",
    "    d = {}\n",
    "    d['year'] = y\n",
    "    d['works'] = dfy.shape[0]\n",
    "    d['hombre'] = udeay[udeay['sex'] == 'hombre'].shape[0]\n",
    "    d['mujer'] = udeay[udeay['sex'] == 'mujer'].shape[0]\n",
    "    d['authors'] = d['hombre'] + d['mujer']\n",
    "    w.append(d)"
   ]
  },
  {
   "cell_type": "code",
   "execution_count": 129,
   "id": "c21a3e2c-f4d3-49dd-990f-3b9da6a6a29e",
   "metadata": {},
   "outputs": [
    {
     "data": {
      "text/plain": [
       "Text(0, 0.5, 'works')"
      ]
     },
     "execution_count": 129,
     "metadata": {},
     "output_type": "execute_result"
    },
    {
     "data": {
      "image/png": "[encoded data removed]",
      "text/plain": [
       "<Figure size 640x480 with 1 Axes>"
      ]
     },
     "metadata": {},
     "output_type": "display_data"
    }
   ],
   "source": [
    "dw = pd.DataFrame(w).sort_values('year')\n",
    "dw['f/m'] = round(dw['mujer']/dw['authors'],4)\n",
    "\n",
    "plt.bar(dw['year'],dw['works'])\n",
    "plt.xlim(1993,2025)\n",
    "plt.grid()\n",
    "plt.title('UdeA works')\n",
    "plt.xlabel('year',size = 12)\n",
    "plt.ylabel('works',size = 12)"
   ]
  },
  {
   "cell_type": "code",
   "execution_count": 130,
   "id": "9f485fdc-5e8d-45a1-bcbb-75f0c1a9cbaf",
   "metadata": {},
   "outputs": [
    {
     "data": {
      "text/plain": [
       "Text(0, 0.5, 'professors')"
      ]
     },
     "execution_count": 130,
     "metadata": {},
     "output_type": "execute_result"
    },
    {
     "data": {
      "image/png": "[encoded data removed]",
      "text/plain": [
       "<Figure size 640x480 with 1 Axes>"
      ]
     },
     "metadata": {},
     "output_type": "display_data"
    }
   ],
   "source": [
    "plt.bar(dw['year'],dw['authors'])\n",
    "plt.xlim(1993,2025)\n",
    "plt.grid()\n",
    "plt.title('UdeA')\n",
    "if FACULTY:\n",
    "    plt.title(f)\n",
    "if DEPARTMENT:\n",
    "    plt.title(ff)\n",
    "\n",
    "plt.xlabel('year',size = 12)\n",
    "plt.ylabel('professors',size = 12)"
   ]
  },
  {
   "cell_type": "code",
   "execution_count": 131,
   "id": "aebbc6e1-8c1b-4c59-98d3-be88fff5e86b",
   "metadata": {},
   "outputs": [
    {
     "data": {
      "text/plain": [
       "Text(0, 0.5, 'female ratio')"
      ]
     },
     "execution_count": 131,
     "metadata": {},
     "output_type": "execute_result"
    },
    {
     "data": {
      "image/png": "[encoded data removed]",
      "text/plain": [
       "<Figure size 640x480 with 1 Axes>"
      ]
     },
     "metadata": {},
     "output_type": "display_data"
    }
   ],
   "source": [
    "plt.bar(dw['year'],dw['f/m'])\n",
    "plt.xlim(1993,2025)\n",
    "plt.grid()\n",
    "plt.ylim(0,0.5)\n",
    "if DEPARTMENT:\n",
    "    plt.xlim(2002,2025)\n",
    "    plt.ylim(0,0.1)\n",
    "\n",
    "plt.title('UdeA')\n",
    "if FACULTY:\n",
    "    plt.title(f)\n",
    "if DEPARTMENT:\n",
    "    plt.title(ff)\n",
    "\n",
    "plt.xlabel('year',size = 12)\n",
    "plt.ylabel('female ratio',size = 12)"
   ]
  },
  {
   "cell_type": "code",
   "execution_count": 132,
   "id": "32d23ebc-5658-4d36-811b-8f9cf444b677",
   "metadata": {},
   "outputs": [],
   "source": [
    "UDEA['full_name']=UDEA.first_names.apply(' '.join)+' '+UDEA.last_names.apply(' '.join)"
   ]
  },
  {
   "cell_type": "code",
   "execution_count": 133,
   "id": "92d0f0c1-eb11-41a3-b605-48afd6ec3fab",
   "metadata": {},
   "outputs": [],
   "source": [
    "y1 = 2020\n",
    "y2 = 2023\n",
    "udea_diff = pd.DataFrame({'COD_RH' : list(set(UDEA[UDEA['year']==y1].COD_RH).difference(UDEA[UDEA['year']==y2].COD_RH))})"
   ]
  },
  {
   "cell_type": "code",
   "execution_count": 134,
   "id": "aebc09ee-a8c0-4918-bab1-a557421c73ce",
   "metadata": {},
   "outputs": [],
   "source": [
    "udea_diff = udea_diff.merge(UDEA.drop_duplicates('COD_RH')[['COD_RH','full_name','faculty','department']],\n",
    "                on='COD_RH',how='left')"
   ]
  },
  {
   "cell_type": "code",
   "execution_count": 135,
   "id": "3b26c083-0925-4d74-98e4-22df30d6ce3a",
   "metadata": {},
   "outputs": [
    {
     "data": {
      "text/plain": [
       "(887, 4)"
      ]
     },
     "execution_count": 135,
     "metadata": {},
     "output_type": "execute_result"
    }
   ],
   "source": [
    "udea_diff.shape"
   ]
  },
  {
   "cell_type": "code",
   "execution_count": 136,
   "id": "19f14915-fff9-4f05-b81c-970468ad32e5",
   "metadata": {},
   "outputs": [
    {
     "data": {
      "text/html": [
       "<div>\n",
       "<style scoped>\n",
       "    .dataframe tbody tr th:only-of-type {\n",
       "        vertical-align: middle;\n",
       "    }\n",
       "\n",
       "    .dataframe tbody tr th {\n",
       "        vertical-align: top;\n",
       "    }\n",
       "\n",
       "    .dataframe thead th {\n",
       "        text-align: right;\n",
       "    }\n",
       "</style>\n",
       "<table border=\"1\" class=\"dataframe\">\n",
       "  <thead>\n",
       "    <tr style=\"text-align: right;\">\n",
       "      <th></th>\n",
       "      <th>year</th>\n",
       "      <th>works</th>\n",
       "      <th>hombre</th>\n",
       "      <th>mujer</th>\n",
       "      <th>authors</th>\n",
       "      <th>f/m</th>\n",
       "    </tr>\n",
       "  </thead>\n",
       "  <tbody>\n",
       "    <tr>\n",
       "      <th>62</th>\n",
       "      <td>2020</td>\n",
       "      <td>5101</td>\n",
       "      <td>1134</td>\n",
       "      <td>879</td>\n",
       "      <td>2013</td>\n",
       "      <td>0.4367</td>\n",
       "    </tr>\n",
       "    <tr>\n",
       "      <th>63</th>\n",
       "      <td>2021</td>\n",
       "      <td>4354</td>\n",
       "      <td>972</td>\n",
       "      <td>739</td>\n",
       "      <td>1711</td>\n",
       "      <td>0.4319</td>\n",
       "    </tr>\n",
       "  </tbody>\n",
       "</table>\n",
       "</div>"
      ],
      "text/plain": [
       "    year  works  hombre  mujer  authors     f/m\n",
       "62  2020   5101    1134    879     2013  0.4367\n",
       "63  2021   4354     972    739     1711  0.4319"
      ]
     },
     "execution_count": 136,
     "metadata": {},
     "output_type": "execute_result"
    }
   ],
   "source": [
    "dw[-5:-3]"
   ]
  },
  {
   "cell_type": "code",
   "execution_count": 137,
   "id": "046ae01f-2f1d-468b-81d0-265f630007d2",
   "metadata": {},
   "outputs": [
    {
     "name": "stdout",
     "output_type": "stream",
     "text": [
      "Authors which publish in 2020 but not in 2023:\n",
      "in Instituto de Física\n"
     ]
    },
    {
     "data": {
      "text/html": [
       "<div>\n",
       "<style scoped>\n",
       "    .dataframe tbody tr th:only-of-type {\n",
       "        vertical-align: middle;\n",
       "    }\n",
       "\n",
       "    .dataframe tbody tr th {\n",
       "        vertical-align: top;\n",
       "    }\n",
       "\n",
       "    .dataframe thead th {\n",
       "        text-align: right;\n",
       "    }\n",
       "</style>\n",
       "<table border=\"1\" class=\"dataframe\">\n",
       "  <thead>\n",
       "    <tr style=\"text-align: right;\">\n",
       "      <th></th>\n",
       "      <th>COD_RH</th>\n",
       "      <th>full_name</th>\n",
       "      <th>faculty</th>\n",
       "      <th>department</th>\n",
       "    </tr>\n",
       "  </thead>\n",
       "  <tbody>\n",
       "    <tr>\n",
       "      <th>0</th>\n",
       "      <td>0000348090</td>\n",
       "      <td>Alvaro Herrera Carrillo</td>\n",
       "      <td>Facultad de Ciencias Exactas y Naturales</td>\n",
       "      <td>Instituto de Física</td>\n",
       "    </tr>\n",
       "    <tr>\n",
       "      <th>1</th>\n",
       "      <td>0000037192</td>\n",
       "      <td>Daniel Esteban Jaramillo Arango</td>\n",
       "      <td>Facultad de Ciencias Exactas y Naturales</td>\n",
       "      <td>Instituto de Física</td>\n",
       "    </tr>\n",
       "    <tr>\n",
       "      <th>2</th>\n",
       "      <td>0000036897</td>\n",
       "      <td>Jorge Enrique Tobon Gomez</td>\n",
       "      <td>Facultad de Ciencias Exactas y Naturales</td>\n",
       "      <td>Instituto de Física</td>\n",
       "    </tr>\n",
       "    <tr>\n",
       "      <th>3</th>\n",
       "      <td>0001581561</td>\n",
       "      <td>Viktor Tulupenko</td>\n",
       "      <td>Facultad de Ciencias Exactas y Naturales</td>\n",
       "      <td>Instituto de Física</td>\n",
       "    </tr>\n",
       "    <tr>\n",
       "      <th>4</th>\n",
       "      <td>0000104647</td>\n",
       "      <td>Jaime Alberto Osorio Velez</td>\n",
       "      <td>Facultad de Ciencias Exactas y Naturales</td>\n",
       "      <td>Instituto de Física</td>\n",
       "    </tr>\n",
       "    <tr>\n",
       "      <th>5</th>\n",
       "      <td>0001557239</td>\n",
       "      <td>Eduardo Rojas Pena</td>\n",
       "      <td>Facultad de Ciencias Exactas y Naturales</td>\n",
       "      <td>Instituto de Física</td>\n",
       "    </tr>\n",
       "    <tr>\n",
       "      <th>6</th>\n",
       "      <td>0000247871</td>\n",
       "      <td>Edgar Alberto Rueda Munoz</td>\n",
       "      <td>Facultad de Ciencias Exactas y Naturales</td>\n",
       "      <td>Instituto de Física</td>\n",
       "    </tr>\n",
       "    <tr>\n",
       "      <th>7</th>\n",
       "      <td>0000320714</td>\n",
       "      <td>German Ricaurte Avella</td>\n",
       "      <td>Facultad de Ciencias Exactas y Naturales</td>\n",
       "      <td>Instituto de Física</td>\n",
       "    </tr>\n",
       "    <tr>\n",
       "      <th>8</th>\n",
       "      <td>0000196878</td>\n",
       "      <td>Fabiola del Socorro Gomez Gomez</td>\n",
       "      <td>Facultad de Ciencias Exactas y Naturales</td>\n",
       "      <td>Instituto de Física</td>\n",
       "    </tr>\n",
       "    <tr>\n",
       "      <th>9</th>\n",
       "      <td>0000167991</td>\n",
       "      <td>Jorge Hernan Lopez Botero</td>\n",
       "      <td>Facultad de Ciencias Exactas y Naturales</td>\n",
       "      <td>Instituto de Física</td>\n",
       "    </tr>\n",
       "    <tr>\n",
       "      <th>10</th>\n",
       "      <td>0001405606</td>\n",
       "      <td>Sorayda Trejos Gonzalez</td>\n",
       "      <td>Facultad de Ciencias Exactas y Naturales</td>\n",
       "      <td>Instituto de Física</td>\n",
       "    </tr>\n",
       "    <tr>\n",
       "      <th>11</th>\n",
       "      <td>0000000639</td>\n",
       "      <td>Gloria Eugenia Campillo Figueroa</td>\n",
       "      <td>Facultad de Ciencias Exactas y Naturales</td>\n",
       "      <td>Instituto de Física</td>\n",
       "    </tr>\n",
       "    <tr>\n",
       "      <th>12</th>\n",
       "      <td>0001493220</td>\n",
       "      <td>Ignacio Ramon Ferrin  Vazquez</td>\n",
       "      <td>Facultad de Ciencias Exactas y Naturales</td>\n",
       "      <td>Instituto de Física</td>\n",
       "    </tr>\n",
       "    <tr>\n",
       "      <th>13</th>\n",
       "      <td>0000057649</td>\n",
       "      <td>Jorge Eduardo Mahecha Gomez</td>\n",
       "      <td>Facultad de Ciencias Exactas y Naturales</td>\n",
       "      <td>Instituto de Física</td>\n",
       "    </tr>\n",
       "    <tr>\n",
       "      <th>14</th>\n",
       "      <td>0000731145</td>\n",
       "      <td>Pablo Andres Cuartas Restrepo</td>\n",
       "      <td>Facultad de Ciencias Exactas y Naturales</td>\n",
       "      <td>Instituto de Física</td>\n",
       "    </tr>\n",
       "    <tr>\n",
       "      <th>15</th>\n",
       "      <td>0001201360</td>\n",
       "      <td>Andres Felipe Rivera Romero</td>\n",
       "      <td>Facultad de Ciencias Exactas y Naturales</td>\n",
       "      <td>Instituto de Física</td>\n",
       "    </tr>\n",
       "    <tr>\n",
       "      <th>16</th>\n",
       "      <td>0001605958</td>\n",
       "      <td>Volodymyr Akimov</td>\n",
       "      <td>Facultad de Ciencias Exactas y Naturales</td>\n",
       "      <td>Instituto de Física</td>\n",
       "    </tr>\n",
       "  </tbody>\n",
       "</table>\n",
       "</div>"
      ],
      "text/plain": [
       "        COD_RH                         full_name  \\\n",
       "0   0000348090           Alvaro Herrera Carrillo   \n",
       "1   0000037192   Daniel Esteban Jaramillo Arango   \n",
       "2   0000036897         Jorge Enrique Tobon Gomez   \n",
       "3   0001581561                  Viktor Tulupenko   \n",
       "4   0000104647        Jaime Alberto Osorio Velez   \n",
       "5   0001557239                Eduardo Rojas Pena   \n",
       "6   0000247871         Edgar Alberto Rueda Munoz   \n",
       "7   0000320714            German Ricaurte Avella   \n",
       "8   0000196878   Fabiola del Socorro Gomez Gomez   \n",
       "9   0000167991         Jorge Hernan Lopez Botero   \n",
       "10  0001405606           Sorayda Trejos Gonzalez   \n",
       "11  0000000639  Gloria Eugenia Campillo Figueroa   \n",
       "12  0001493220     Ignacio Ramon Ferrin  Vazquez   \n",
       "13  0000057649       Jorge Eduardo Mahecha Gomez   \n",
       "14  0000731145     Pablo Andres Cuartas Restrepo   \n",
       "15  0001201360       Andres Felipe Rivera Romero   \n",
       "16  0001605958                  Volodymyr Akimov   \n",
       "\n",
       "                                     faculty           department  \n",
       "0   Facultad de Ciencias Exactas y Naturales  Instituto de Física  \n",
       "1   Facultad de Ciencias Exactas y Naturales  Instituto de Física  \n",
       "2   Facultad de Ciencias Exactas y Naturales  Instituto de Física  \n",
       "3   Facultad de Ciencias Exactas y Naturales  Instituto de Física  \n",
       "4   Facultad de Ciencias Exactas y Naturales  Instituto de Física  \n",
       "5   Facultad de Ciencias Exactas y Naturales  Instituto de Física  \n",
       "6   Facultad de Ciencias Exactas y Naturales  Instituto de Física  \n",
       "7   Facultad de Ciencias Exactas y Naturales  Instituto de Física  \n",
       "8   Facultad de Ciencias Exactas y Naturales  Instituto de Física  \n",
       "9   Facultad de Ciencias Exactas y Naturales  Instituto de Física  \n",
       "10  Facultad de Ciencias Exactas y Naturales  Instituto de Física  \n",
       "11  Facultad de Ciencias Exactas y Naturales  Instituto de Física  \n",
       "12  Facultad de Ciencias Exactas y Naturales  Instituto de Física  \n",
       "13  Facultad de Ciencias Exactas y Naturales  Instituto de Física  \n",
       "14  Facultad de Ciencias Exactas y Naturales  Instituto de Física  \n",
       "15  Facultad de Ciencias Exactas y Naturales  Instituto de Física  \n",
       "16  Facultad de Ciencias Exactas y Naturales  Instituto de Física  "
      ]
     },
     "execution_count": 137,
     "metadata": {},
     "output_type": "execute_result"
    }
   ],
   "source": [
    "print(f'Authors which publish in {y1} but not in {y2}:')\n",
    "#print(f'in {f}')\n",
    "#udea_diff[udea_diff['faculty'] == f].reset_index(drop=True)\n",
    "print(f'in {ff}')\n",
    "udea_diff[udea_diff['department'] == ff].reset_index(drop=True)"
   ]
  },
  {
   "cell_type": "markdown",
   "id": "a0693fbb-71ba-4433-86f9-a75518f2e9c1",
   "metadata": {},
   "source": [
    "### Types"
   ]
  },
  {
   "cell_type": "code",
   "execution_count": 5,
   "id": "7dc36fe3-6820-47f9-976d-463d569f7fc0",
   "metadata": {},
   "outputs": [],
   "source": [
    "df = pd.DataFrame(DJ)"
   ]
  },
  {
   "cell_type": "code",
   "execution_count": 6,
   "id": "3fcfc0a6-13a8-420e-8eb3-aef39d3ed7c8",
   "metadata": {},
   "outputs": [],
   "source": [
    "del DJ"
   ]
  },
  {
   "cell_type": "code",
   "execution_count": 16,
   "id": "a4ea623f-eaf6-4a2d-afa3-2a643a02d86d",
   "metadata": {},
   "outputs": [
    {
     "data": {
      "text/html": [
       "<div>\n",
       "<style scoped>\n",
       "    .dataframe tbody tr th:only-of-type {\n",
       "        vertical-align: middle;\n",
       "    }\n",
       "\n",
       "    .dataframe tbody tr th {\n",
       "        vertical-align: top;\n",
       "    }\n",
       "\n",
       "    .dataframe thead th {\n",
       "        text-align: right;\n",
       "    }\n",
       "</style>\n",
       "<table border=\"1\" class=\"dataframe\">\n",
       "  <thead>\n",
       "    <tr style=\"text-align: right;\">\n",
       "      <th></th>\n",
       "      <th>provenance</th>\n",
       "      <th>source</th>\n",
       "      <th>type</th>\n",
       "      <th>code</th>\n",
       "      <th>level</th>\n",
       "    </tr>\n",
       "  </thead>\n",
       "  <tbody>\n",
       "    <tr>\n",
       "      <th>191402</th>\n",
       "      <td>ciarp</td>\n",
       "      <td>ciarp</td>\n",
       "      <td>Capitulo de libro de ensayo</td>\n",
       "      <td>NaN</td>\n",
       "      <td>NaN</td>\n",
       "    </tr>\n",
       "    <tr>\n",
       "      <th>191406</th>\n",
       "      <td>ciarp</td>\n",
       "      <td>ciarp</td>\n",
       "      <td>Impreso universitario</td>\n",
       "      <td>NaN</td>\n",
       "      <td>NaN</td>\n",
       "    </tr>\n",
       "    <tr>\n",
       "      <th>191407</th>\n",
       "      <td>ciarp</td>\n",
       "      <td>ciarp</td>\n",
       "      <td>Articulo en revista Tipo A2</td>\n",
       "      <td>NaN</td>\n",
       "      <td>NaN</td>\n",
       "    </tr>\n",
       "  </tbody>\n",
       "</table>\n",
       "</div>"
      ],
      "text/plain": [
       "       provenance source                         type code  level\n",
       "191402      ciarp  ciarp  Capitulo de libro de ensayo  NaN    NaN\n",
       "191406      ciarp  ciarp        Impreso universitario  NaN    NaN\n",
       "191407      ciarp  ciarp  Articulo en revista Tipo A2  NaN    NaN"
      ]
     },
     "execution_count": 16,
     "metadata": {},
     "output_type": "execute_result"
    }
   ],
   "source": [
    "tp = pd.DataFrame(flatten(df['types'].to_list())).drop_duplicates().sort_values(['provenance','source'] )\n",
    "tp[:3]"
   ]
  },
  {
   "cell_type": "code",
   "execution_count": 75,
   "id": "4d6bb04a-af39-4c7c-93b9-4bc9f5276d95",
   "metadata": {},
   "outputs": [],
   "source": [
    "tp = tp.reset_index(drop=True)\n",
    "tp['level'] = tp['level'].fillna(0).astype(int)\n",
    "tp['code'] = tp['code'].fillna(0).astype(str)"
   ]
  },
  {
   "cell_type": "code",
   "execution_count": 44,
   "id": "4544d8e4-280c-4908-98a6-863f786f05ad",
   "metadata": {},
   "outputs": [],
   "source": [
    "p = 'minciencias'\n",
    "s = 'minciencias'\n",
    "t = 'Artículos'"
   ]
  },
  {
   "cell_type": "code",
   "execution_count": 83,
   "id": "154bbbae-0e4e-4970-9d45-90196e884b57",
   "metadata": {},
   "outputs": [
    {
     "data": {
      "text/plain": [
       "True"
      ]
     },
     "execution_count": 83,
     "metadata": {},
     "output_type": "execute_result"
    }
   ],
   "source": [
    "2 in {1,2}"
   ]
  },
  {
   "cell_type": "code",
   "execution_count": 84,
   "id": "9d6cabd1-4c04-47ed-a541-af9e5c8bdf73",
   "metadata": {},
   "outputs": [],
   "source": [
    "df['provenance'] = df['types'].apply(lambda L: set([d.get('provenance') for d in L]))\n",
    "df['source'] = df['types'].apply(lambda L: set([d.get('source') for d in L]))\n",
    "df['type'] = df['types'].apply(lambda L: set([d.get('type') for d in L]))"
   ]
  },
  {
   "cell_type": "code",
   "execution_count": 85,
   "id": "60971529-1bb1-4754-96c4-fbb4e09294d0",
   "metadata": {},
   "outputs": [],
   "source": [
    "c = []\n",
    "for p,s,t in tp[['provenance','source','type']].values:\n",
    "    c.append( df[((df['provenance'].apply(lambda L: p in L) ) & \n",
    "        (df['source'].apply(lambda L: s in L)) & \n",
    "        (df['type'].apply(lambda L: t in L))\n",
    "       )].shape[0])"
   ]
  },
  {
   "cell_type": "code",
   "execution_count": 86,
   "id": "a6cc1734-b485-4f97-b1cc-6ff5e324a6ac",
   "metadata": {},
   "outputs": [],
   "source": [
    "tp['counts'] = c"
   ]
  },
  {
   "cell_type": "code",
   "execution_count": 87,
   "id": "0cddef27-380a-4729-ba38-2c61271561ea",
   "metadata": {},
   "outputs": [
    {
     "data": {
      "text/html": [
       "<div>\n",
       "<style scoped>\n",
       "    .dataframe tbody tr th:only-of-type {\n",
       "        vertical-align: middle;\n",
       "    }\n",
       "\n",
       "    .dataframe tbody tr th {\n",
       "        vertical-align: top;\n",
       "    }\n",
       "\n",
       "    .dataframe thead th {\n",
       "        text-align: right;\n",
       "    }\n",
       "</style>\n",
       "<table border=\"1\" class=\"dataframe\">\n",
       "  <thead>\n",
       "    <tr style=\"text-align: right;\">\n",
       "      <th></th>\n",
       "      <th>provenance</th>\n",
       "      <th>source</th>\n",
       "      <th>type</th>\n",
       "      <th>code</th>\n",
       "      <th>level</th>\n",
       "      <th>counts</th>\n",
       "    </tr>\n",
       "  </thead>\n",
       "  <tbody>\n",
       "    <tr>\n",
       "      <th>115</th>\n",
       "      <td>scienti</td>\n",
       "      <td>scienti</td>\n",
       "      <td>Producción bibliográfica</td>\n",
       "      <td>1</td>\n",
       "      <td>0</td>\n",
       "      <td>50745</td>\n",
       "    </tr>\n",
       "    <tr>\n",
       "      <th>91</th>\n",
       "      <td>openalex</td>\n",
       "      <td>openalex</td>\n",
       "      <td>article</td>\n",
       "      <td>0</td>\n",
       "      <td>0</td>\n",
       "      <td>45425</td>\n",
       "    </tr>\n",
       "    <tr>\n",
       "      <th>72</th>\n",
       "      <td>openalex</td>\n",
       "      <td>crossref</td>\n",
       "      <td>journal-article</td>\n",
       "      <td>0</td>\n",
       "      <td>0</td>\n",
       "      <td>44364</td>\n",
       "    </tr>\n",
       "    <tr>\n",
       "      <th>114</th>\n",
       "      <td>scienti</td>\n",
       "      <td>scienti</td>\n",
       "      <td>Artículo</td>\n",
       "      <td>11</td>\n",
       "      <td>1</td>\n",
       "      <td>32987</td>\n",
       "    </tr>\n",
       "    <tr>\n",
       "      <th>146</th>\n",
       "      <td>scienti</td>\n",
       "      <td>scienti</td>\n",
       "      <td>Artículo</td>\n",
       "      <td>1A1</td>\n",
       "      <td>2</td>\n",
       "      <td>32987</td>\n",
       "    </tr>\n",
       "    <tr>\n",
       "      <th>126</th>\n",
       "      <td>scienti</td>\n",
       "      <td>scienti</td>\n",
       "      <td>Trabajos dirigidos/Tutorías</td>\n",
       "      <td>6</td>\n",
       "      <td>0</td>\n",
       "      <td>30772</td>\n",
       "    </tr>\n",
       "    <tr>\n",
       "      <th>113</th>\n",
       "      <td>scienti</td>\n",
       "      <td>scienti</td>\n",
       "      <td>Publicado en revista especializada</td>\n",
       "      <td>111</td>\n",
       "      <td>2</td>\n",
       "      <td>29825</td>\n",
       "    </tr>\n",
       "    <tr>\n",
       "      <th>106</th>\n",
       "      <td>scholar</td>\n",
       "      <td>scholar</td>\n",
       "      <td>article</td>\n",
       "      <td>0</td>\n",
       "      <td>0</td>\n",
       "      <td>25005</td>\n",
       "    </tr>\n",
       "    <tr>\n",
       "      <th>51</th>\n",
       "      <td>minciencias</td>\n",
       "      <td>minciencias</td>\n",
       "      <td>Nuevo conocimiento</td>\n",
       "      <td>0</td>\n",
       "      <td>0</td>\n",
       "      <td>18026</td>\n",
       "    </tr>\n",
       "    <tr>\n",
       "      <th>133</th>\n",
       "      <td>scienti</td>\n",
       "      <td>scienti</td>\n",
       "      <td>Trabajos de grado de pregrado</td>\n",
       "      <td>64</td>\n",
       "      <td>1</td>\n",
       "      <td>15827</td>\n",
       "    </tr>\n",
       "    <tr>\n",
       "      <th>50</th>\n",
       "      <td>minciencias</td>\n",
       "      <td>minciencias</td>\n",
       "      <td>Artículos de investigación</td>\n",
       "      <td>0</td>\n",
       "      <td>1</td>\n",
       "      <td>13401</td>\n",
       "    </tr>\n",
       "    <tr>\n",
       "      <th>57</th>\n",
       "      <td>minciencias</td>\n",
       "      <td>minciencias</td>\n",
       "      <td>Formación de recurso humano</td>\n",
       "      <td>0</td>\n",
       "      <td>0</td>\n",
       "      <td>11695</td>\n",
       "    </tr>\n",
       "    <tr>\n",
       "      <th>150</th>\n",
       "      <td>scienti</td>\n",
       "      <td>scienti</td>\n",
       "      <td>Libro</td>\n",
       "      <td>1A2</td>\n",
       "      <td>2</td>\n",
       "      <td>10644</td>\n",
       "    </tr>\n",
       "    <tr>\n",
       "      <th>122</th>\n",
       "      <td>scienti</td>\n",
       "      <td>scienti</td>\n",
       "      <td>Libro</td>\n",
       "      <td>13</td>\n",
       "      <td>1</td>\n",
       "      <td>10644</td>\n",
       "    </tr>\n",
       "    <tr>\n",
       "      <th>125</th>\n",
       "      <td>scienti</td>\n",
       "      <td>scienti</td>\n",
       "      <td>Trabajo de grado de maestría o especialidad cl...</td>\n",
       "      <td>62</td>\n",
       "      <td>1</td>\n",
       "      <td>9047</td>\n",
       "    </tr>\n",
       "    <tr>\n",
       "      <th>56</th>\n",
       "      <td>minciencias</td>\n",
       "      <td>minciencias</td>\n",
       "      <td>Tesis de pregrado</td>\n",
       "      <td>0</td>\n",
       "      <td>1</td>\n",
       "      <td>6958</td>\n",
       "    </tr>\n",
       "    <tr>\n",
       "      <th>53</th>\n",
       "      <td>minciencias</td>\n",
       "      <td>minciencias</td>\n",
       "      <td>Apropiación social del conocimiento</td>\n",
       "      <td>0</td>\n",
       "      <td>0</td>\n",
       "      <td>5761</td>\n",
       "    </tr>\n",
       "    <tr>\n",
       "      <th>52</th>\n",
       "      <td>minciencias</td>\n",
       "      <td>minciencias</td>\n",
       "      <td>Artículos</td>\n",
       "      <td>0</td>\n",
       "      <td>1</td>\n",
       "      <td>5553</td>\n",
       "    </tr>\n",
       "    <tr>\n",
       "      <th>123</th>\n",
       "      <td>scienti</td>\n",
       "      <td>scienti</td>\n",
       "      <td>Otro capítulo de libro publicado</td>\n",
       "      <td>135</td>\n",
       "      <td>2</td>\n",
       "      <td>4479</td>\n",
       "    </tr>\n",
       "    <tr>\n",
       "      <th>128</th>\n",
       "      <td>scienti</td>\n",
       "      <td>scienti</td>\n",
       "      <td>Otro artículo publicado</td>\n",
       "      <td>14</td>\n",
       "      <td>1</td>\n",
       "      <td>4146</td>\n",
       "    </tr>\n",
       "    <tr>\n",
       "      <th>59</th>\n",
       "      <td>minciencias</td>\n",
       "      <td>minciencias</td>\n",
       "      <td>Tesis de maestria</td>\n",
       "      <td>0</td>\n",
       "      <td>1</td>\n",
       "      <td>3939</td>\n",
       "    </tr>\n",
       "    <tr>\n",
       "      <th>121</th>\n",
       "      <td>scienti</td>\n",
       "      <td>scienti</td>\n",
       "      <td>Capítulo de libro</td>\n",
       "      <td>132</td>\n",
       "      <td>2</td>\n",
       "      <td>3571</td>\n",
       "    </tr>\n",
       "    <tr>\n",
       "      <th>127</th>\n",
       "      <td>scienti</td>\n",
       "      <td>scienti</td>\n",
       "      <td>Revista de divulgación</td>\n",
       "      <td>142</td>\n",
       "      <td>2</td>\n",
       "      <td>2919</td>\n",
       "    </tr>\n",
       "    <tr>\n",
       "      <th>118</th>\n",
       "      <td>scienti</td>\n",
       "      <td>scienti</td>\n",
       "      <td>Trabajos en eventos (Capítulos de memoria)</td>\n",
       "      <td>12</td>\n",
       "      <td>1</td>\n",
       "      <td>2457</td>\n",
       "    </tr>\n",
       "    <tr>\n",
       "      <th>134</th>\n",
       "      <td>scienti</td>\n",
       "      <td>scienti</td>\n",
       "      <td>Tesis de doctorado</td>\n",
       "      <td>61</td>\n",
       "      <td>1</td>\n",
       "      <td>2341</td>\n",
       "    </tr>\n",
       "    <tr>\n",
       "      <th>116</th>\n",
       "      <td>scienti</td>\n",
       "      <td>scienti</td>\n",
       "      <td>Corto (Resumen)</td>\n",
       "      <td>112</td>\n",
       "      <td>2</td>\n",
       "      <td>1924</td>\n",
       "    </tr>\n",
       "    <tr>\n",
       "      <th>124</th>\n",
       "      <td>scienti</td>\n",
       "      <td>scienti</td>\n",
       "      <td>Libro resultado de investigación</td>\n",
       "      <td>134</td>\n",
       "      <td>2</td>\n",
       "      <td>1842</td>\n",
       "    </tr>\n",
       "    <tr>\n",
       "      <th>137</th>\n",
       "      <td>scienti</td>\n",
       "      <td>scienti</td>\n",
       "      <td>Documento de trabajo (Working Paper)</td>\n",
       "      <td>1D</td>\n",
       "      <td>1</td>\n",
       "      <td>1768</td>\n",
       "    </tr>\n",
       "    <tr>\n",
       "      <th>119</th>\n",
       "      <td>scienti</td>\n",
       "      <td>scienti</td>\n",
       "      <td>Revisión (Survey)</td>\n",
       "      <td>113</td>\n",
       "      <td>2</td>\n",
       "      <td>1747</td>\n",
       "    </tr>\n",
       "    <tr>\n",
       "      <th>54</th>\n",
       "      <td>minciencias</td>\n",
       "      <td>minciencias</td>\n",
       "      <td>Capítulos de libro</td>\n",
       "      <td>0</td>\n",
       "      <td>1</td>\n",
       "      <td>1727</td>\n",
       "    </tr>\n",
       "    <tr>\n",
       "      <th>117</th>\n",
       "      <td>scienti</td>\n",
       "      <td>scienti</td>\n",
       "      <td>Completo</td>\n",
       "      <td>121</td>\n",
       "      <td>2</td>\n",
       "      <td>1712</td>\n",
       "    </tr>\n",
       "    <tr>\n",
       "      <th>139</th>\n",
       "      <td>scienti</td>\n",
       "      <td>scienti</td>\n",
       "      <td>Trabajos dirigidos/Tutorías de otro tipo</td>\n",
       "      <td>66</td>\n",
       "      <td>1</td>\n",
       "      <td>1659</td>\n",
       "    </tr>\n",
       "    <tr>\n",
       "      <th>130</th>\n",
       "      <td>scienti</td>\n",
       "      <td>scienti</td>\n",
       "      <td>Otra producción bibliográfica</td>\n",
       "      <td>1Z</td>\n",
       "      <td>1</td>\n",
       "      <td>1557</td>\n",
       "    </tr>\n",
       "    <tr>\n",
       "      <th>129</th>\n",
       "      <td>scienti</td>\n",
       "      <td>scienti</td>\n",
       "      <td>Otra</td>\n",
       "      <td>1Z9</td>\n",
       "      <td>2</td>\n",
       "      <td>1440</td>\n",
       "    </tr>\n",
       "    <tr>\n",
       "      <th>149</th>\n",
       "      <td>scienti</td>\n",
       "      <td>scienti</td>\n",
       "      <td>Otra</td>\n",
       "      <td>1A9</td>\n",
       "      <td>2</td>\n",
       "      <td>1440</td>\n",
       "    </tr>\n",
       "    <tr>\n",
       "      <th>145</th>\n",
       "      <td>scienti</td>\n",
       "      <td>scienti</td>\n",
       "      <td>Monografía de conclusión de curso de perfeccio...</td>\n",
       "      <td>63</td>\n",
       "      <td>1</td>\n",
       "      <td>1314</td>\n",
       "    </tr>\n",
       "    <tr>\n",
       "      <th>135</th>\n",
       "      <td>scienti</td>\n",
       "      <td>scienti</td>\n",
       "      <td>Periódico de noticias</td>\n",
       "      <td>141</td>\n",
       "      <td>2</td>\n",
       "      <td>1104</td>\n",
       "    </tr>\n",
       "    <tr>\n",
       "      <th>65</th>\n",
       "      <td>minciencias</td>\n",
       "      <td>minciencias</td>\n",
       "      <td>Informe Final de Investigación</td>\n",
       "      <td>0</td>\n",
       "      <td>1</td>\n",
       "      <td>1101</td>\n",
       "    </tr>\n",
       "    <tr>\n",
       "      <th>58</th>\n",
       "      <td>minciencias</td>\n",
       "      <td>minciencias</td>\n",
       "      <td>Apropiación social del conocimiento y divulgac...</td>\n",
       "      <td>0</td>\n",
       "      <td>0</td>\n",
       "      <td>1089</td>\n",
       "    </tr>\n",
       "    <tr>\n",
       "      <th>107</th>\n",
       "      <td>scholar</td>\n",
       "      <td>scholar</td>\n",
       "      <td>inproceedings</td>\n",
       "      <td>0</td>\n",
       "      <td>0</td>\n",
       "      <td>1055</td>\n",
       "    </tr>\n",
       "    <tr>\n",
       "      <th>92</th>\n",
       "      <td>openalex</td>\n",
       "      <td>openalex</td>\n",
       "      <td>review</td>\n",
       "      <td>0</td>\n",
       "      <td>0</td>\n",
       "      <td>1002</td>\n",
       "    </tr>\n",
       "    <tr>\n",
       "      <th>140</th>\n",
       "      <td>scienti</td>\n",
       "      <td>scienti</td>\n",
       "      <td>Iniciación Científica</td>\n",
       "      <td>65</td>\n",
       "      <td>1</td>\n",
       "      <td>967</td>\n",
       "    </tr>\n",
       "    <tr>\n",
       "      <th>120</th>\n",
       "      <td>scienti</td>\n",
       "      <td>scienti</td>\n",
       "      <td>Resumen</td>\n",
       "      <td>122</td>\n",
       "      <td>2</td>\n",
       "      <td>914</td>\n",
       "    </tr>\n",
       "    <tr>\n",
       "      <th>60</th>\n",
       "      <td>minciencias</td>\n",
       "      <td>minciencias</td>\n",
       "      <td>Libros</td>\n",
       "      <td>0</td>\n",
       "      <td>1</td>\n",
       "      <td>903</td>\n",
       "    </tr>\n",
       "    <tr>\n",
       "      <th>79</th>\n",
       "      <td>openalex</td>\n",
       "      <td>crossref</td>\n",
       "      <td>book-chapter</td>\n",
       "      <td>0</td>\n",
       "      <td>0</td>\n",
       "      <td>901</td>\n",
       "    </tr>\n",
       "    <tr>\n",
       "      <th>99</th>\n",
       "      <td>openalex</td>\n",
       "      <td>openalex</td>\n",
       "      <td>book-chapter</td>\n",
       "      <td>0</td>\n",
       "      <td>0</td>\n",
       "      <td>901</td>\n",
       "    </tr>\n",
       "    <tr>\n",
       "      <th>63</th>\n",
       "      <td>minciencias</td>\n",
       "      <td>minciencias</td>\n",
       "      <td>Tesis de doctorado</td>\n",
       "      <td>0</td>\n",
       "      <td>1</td>\n",
       "      <td>860</td>\n",
       "    </tr>\n",
       "    <tr>\n",
       "      <th>55</th>\n",
       "      <td>minciencias</td>\n",
       "      <td>minciencias</td>\n",
       "      <td>Capítulos de libro de investigación</td>\n",
       "      <td>0</td>\n",
       "      <td>1</td>\n",
       "      <td>858</td>\n",
       "    </tr>\n",
       "    <tr>\n",
       "      <th>80</th>\n",
       "      <td>openalex</td>\n",
       "      <td>crossref</td>\n",
       "      <td>proceedings-article</td>\n",
       "      <td>0</td>\n",
       "      <td>0</td>\n",
       "      <td>821</td>\n",
       "    </tr>\n",
       "    <tr>\n",
       "      <th>78</th>\n",
       "      <td>openalex</td>\n",
       "      <td>crossref</td>\n",
       "      <td>posted-content</td>\n",
       "      <td>0</td>\n",
       "      <td>0</td>\n",
       "      <td>807</td>\n",
       "    </tr>\n",
       "  </tbody>\n",
       "</table>\n",
       "</div>"
      ],
      "text/plain": [
       "      provenance       source  \\\n",
       "115      scienti      scienti   \n",
       "91      openalex     openalex   \n",
       "72      openalex     crossref   \n",
       "114      scienti      scienti   \n",
       "146      scienti      scienti   \n",
       "126      scienti      scienti   \n",
       "113      scienti      scienti   \n",
       "106      scholar      scholar   \n",
       "51   minciencias  minciencias   \n",
       "133      scienti      scienti   \n",
       "50   minciencias  minciencias   \n",
       "57   minciencias  minciencias   \n",
       "150      scienti      scienti   \n",
       "122      scienti      scienti   \n",
       "125      scienti      scienti   \n",
       "56   minciencias  minciencias   \n",
       "53   minciencias  minciencias   \n",
       "52   minciencias  minciencias   \n",
       "123      scienti      scienti   \n",
       "128      scienti      scienti   \n",
       "59   minciencias  minciencias   \n",
       "121      scienti      scienti   \n",
       "127      scienti      scienti   \n",
       "118      scienti      scienti   \n",
       "134      scienti      scienti   \n",
       "116      scienti      scienti   \n",
       "124      scienti      scienti   \n",
       "137      scienti      scienti   \n",
       "119      scienti      scienti   \n",
       "54   minciencias  minciencias   \n",
       "117      scienti      scienti   \n",
       "139      scienti      scienti   \n",
       "130      scienti      scienti   \n",
       "129      scienti      scienti   \n",
       "149      scienti      scienti   \n",
       "145      scienti      scienti   \n",
       "135      scienti      scienti   \n",
       "65   minciencias  minciencias   \n",
       "58   minciencias  minciencias   \n",
       "107      scholar      scholar   \n",
       "92      openalex     openalex   \n",
       "140      scienti      scienti   \n",
       "120      scienti      scienti   \n",
       "60   minciencias  minciencias   \n",
       "79      openalex     crossref   \n",
       "99      openalex     openalex   \n",
       "63   minciencias  minciencias   \n",
       "55   minciencias  minciencias   \n",
       "80      openalex     crossref   \n",
       "78      openalex     crossref   \n",
       "\n",
       "                                                  type code  level  counts  \n",
       "115                           Producción bibliográfica    1      0   50745  \n",
       "91                                             article    0      0   45425  \n",
       "72                                     journal-article    0      0   44364  \n",
       "114                                           Artículo   11      1   32987  \n",
       "146                                           Artículo  1A1      2   32987  \n",
       "126                        Trabajos dirigidos/Tutorías    6      0   30772  \n",
       "113                 Publicado en revista especializada  111      2   29825  \n",
       "106                                            article    0      0   25005  \n",
       "51                                  Nuevo conocimiento    0      0   18026  \n",
       "133                      Trabajos de grado de pregrado   64      1   15827  \n",
       "50                          Artículos de investigación    0      1   13401  \n",
       "57                         Formación de recurso humano    0      0   11695  \n",
       "150                                              Libro  1A2      2   10644  \n",
       "122                                              Libro   13      1   10644  \n",
       "125  Trabajo de grado de maestría o especialidad cl...   62      1    9047  \n",
       "56                                   Tesis de pregrado    0      1    6958  \n",
       "53                 Apropiación social del conocimiento    0      0    5761  \n",
       "52                                           Artículos    0      1    5553  \n",
       "123                   Otro capítulo de libro publicado  135      2    4479  \n",
       "128                            Otro artículo publicado   14      1    4146  \n",
       "59                                   Tesis de maestria    0      1    3939  \n",
       "121                                  Capítulo de libro  132      2    3571  \n",
       "127                             Revista de divulgación  142      2    2919  \n",
       "118         Trabajos en eventos (Capítulos de memoria)   12      1    2457  \n",
       "134                                 Tesis de doctorado   61      1    2341  \n",
       "116                                    Corto (Resumen)  112      2    1924  \n",
       "124                   Libro resultado de investigación  134      2    1842  \n",
       "137               Documento de trabajo (Working Paper)   1D      1    1768  \n",
       "119                                  Revisión (Survey)  113      2    1747  \n",
       "54                                  Capítulos de libro    0      1    1727  \n",
       "117                                           Completo  121      2    1712  \n",
       "139           Trabajos dirigidos/Tutorías de otro tipo   66      1    1659  \n",
       "130                      Otra producción bibliográfica   1Z      1    1557  \n",
       "129                                               Otra  1Z9      2    1440  \n",
       "149                                               Otra  1A9      2    1440  \n",
       "145  Monografía de conclusión de curso de perfeccio...   63      1    1314  \n",
       "135                              Periódico de noticias  141      2    1104  \n",
       "65                      Informe Final de Investigación    0      1    1101  \n",
       "58   Apropiación social del conocimiento y divulgac...    0      0    1089  \n",
       "107                                      inproceedings    0      0    1055  \n",
       "92                                              review    0      0    1002  \n",
       "140                              Iniciación Científica   65      1     967  \n",
       "120                                            Resumen  122      2     914  \n",
       "60                                              Libros    0      1     903  \n",
       "79                                        book-chapter    0      0     901  \n",
       "99                                        book-chapter    0      0     901  \n",
       "63                                  Tesis de doctorado    0      1     860  \n",
       "55                 Capítulos de libro de investigación    0      1     858  \n",
       "80                                 proceedings-article    0      0     821  \n",
       "78                                      posted-content    0      0     807  "
      ]
     },
     "execution_count": 87,
     "metadata": {},
     "output_type": "execute_result"
    }
   ],
   "source": [
    "tp.sort_values('counts', ascending=False)[:50]"
   ]
  },
  {
   "cell_type": "code",
   "execution_count": 249,
   "id": "e1734e6f-edb7-414a-b2f7-1ca189b7359f",
   "metadata": {},
   "outputs": [
    {
     "data": {
      "text/html": [
       "<div>\n",
       "<style scoped>\n",
       "    .dataframe tbody tr th:only-of-type {\n",
       "        vertical-align: middle;\n",
       "    }\n",
       "\n",
       "    .dataframe tbody tr th {\n",
       "        vertical-align: top;\n",
       "    }\n",
       "\n",
       "    .dataframe thead th {\n",
       "        text-align: right;\n",
       "    }\n",
       "</style>\n",
       "<table border=\"1\" class=\"dataframe\">\n",
       "  <thead>\n",
       "    <tr style=\"text-align: right;\">\n",
       "      <th></th>\n",
       "      <th>provenance</th>\n",
       "      <th>source</th>\n",
       "      <th>type</th>\n",
       "      <th>code</th>\n",
       "      <th>level</th>\n",
       "      <th>counts</th>\n",
       "    </tr>\n",
       "  </thead>\n",
       "  <tbody>\n",
       "    <tr>\n",
       "      <th>51</th>\n",
       "      <td>minciencias</td>\n",
       "      <td>minciencias</td>\n",
       "      <td>Nuevo conocimiento</td>\n",
       "      <td>0</td>\n",
       "      <td>0</td>\n",
       "      <td>18026</td>\n",
       "    </tr>\n",
       "    <tr>\n",
       "      <th>50</th>\n",
       "      <td>minciencias</td>\n",
       "      <td>minciencias</td>\n",
       "      <td>Artículos de investigación</td>\n",
       "      <td>0</td>\n",
       "      <td>1</td>\n",
       "      <td>13401</td>\n",
       "    </tr>\n",
       "    <tr>\n",
       "      <th>57</th>\n",
       "      <td>minciencias</td>\n",
       "      <td>minciencias</td>\n",
       "      <td>Formación de recurso humano</td>\n",
       "      <td>0</td>\n",
       "      <td>0</td>\n",
       "      <td>11695</td>\n",
       "    </tr>\n",
       "    <tr>\n",
       "      <th>56</th>\n",
       "      <td>minciencias</td>\n",
       "      <td>minciencias</td>\n",
       "      <td>Tesis de pregrado</td>\n",
       "      <td>0</td>\n",
       "      <td>1</td>\n",
       "      <td>6958</td>\n",
       "    </tr>\n",
       "    <tr>\n",
       "      <th>53</th>\n",
       "      <td>minciencias</td>\n",
       "      <td>minciencias</td>\n",
       "      <td>Apropiación social del conocimiento</td>\n",
       "      <td>0</td>\n",
       "      <td>0</td>\n",
       "      <td>5761</td>\n",
       "    </tr>\n",
       "    <tr>\n",
       "      <th>52</th>\n",
       "      <td>minciencias</td>\n",
       "      <td>minciencias</td>\n",
       "      <td>Artículos</td>\n",
       "      <td>0</td>\n",
       "      <td>1</td>\n",
       "      <td>5553</td>\n",
       "    </tr>\n",
       "    <tr>\n",
       "      <th>59</th>\n",
       "      <td>minciencias</td>\n",
       "      <td>minciencias</td>\n",
       "      <td>Tesis de maestria</td>\n",
       "      <td>0</td>\n",
       "      <td>1</td>\n",
       "      <td>3939</td>\n",
       "    </tr>\n",
       "    <tr>\n",
       "      <th>54</th>\n",
       "      <td>minciencias</td>\n",
       "      <td>minciencias</td>\n",
       "      <td>Capítulos de libro</td>\n",
       "      <td>0</td>\n",
       "      <td>1</td>\n",
       "      <td>1727</td>\n",
       "    </tr>\n",
       "    <tr>\n",
       "      <th>65</th>\n",
       "      <td>minciencias</td>\n",
       "      <td>minciencias</td>\n",
       "      <td>Informe Final de Investigación</td>\n",
       "      <td>0</td>\n",
       "      <td>1</td>\n",
       "      <td>1101</td>\n",
       "    </tr>\n",
       "    <tr>\n",
       "      <th>58</th>\n",
       "      <td>minciencias</td>\n",
       "      <td>minciencias</td>\n",
       "      <td>Apropiación social del conocimiento y divulgación pública de la ciencia</td>\n",
       "      <td>0</td>\n",
       "      <td>0</td>\n",
       "      <td>1089</td>\n",
       "    </tr>\n",
       "    <tr>\n",
       "      <th>60</th>\n",
       "      <td>minciencias</td>\n",
       "      <td>minciencias</td>\n",
       "      <td>Libros</td>\n",
       "      <td>0</td>\n",
       "      <td>1</td>\n",
       "      <td>903</td>\n",
       "    </tr>\n",
       "    <tr>\n",
       "      <th>63</th>\n",
       "      <td>minciencias</td>\n",
       "      <td>minciencias</td>\n",
       "      <td>Tesis de doctorado</td>\n",
       "      <td>0</td>\n",
       "      <td>1</td>\n",
       "      <td>860</td>\n",
       "    </tr>\n",
       "    <tr>\n",
       "      <th>55</th>\n",
       "      <td>minciencias</td>\n",
       "      <td>minciencias</td>\n",
       "      <td>Capítulos de libro de investigación</td>\n",
       "      <td>0</td>\n",
       "      <td>1</td>\n",
       "      <td>858</td>\n",
       "    </tr>\n",
       "    <tr>\n",
       "      <th>62</th>\n",
       "      <td>minciencias</td>\n",
       "      <td>minciencias</td>\n",
       "      <td>Documento de trabajo</td>\n",
       "      <td>0</td>\n",
       "      <td>1</td>\n",
       "      <td>769</td>\n",
       "    </tr>\n",
       "    <tr>\n",
       "      <th>61</th>\n",
       "      <td>minciencias</td>\n",
       "      <td>minciencias</td>\n",
       "      <td>Libros de investigación</td>\n",
       "      <td>0</td>\n",
       "      <td>1</td>\n",
       "      <td>296</td>\n",
       "    </tr>\n",
       "    <tr>\n",
       "      <th>66</th>\n",
       "      <td>minciencias</td>\n",
       "      <td>minciencias</td>\n",
       "      <td>Boletín divulgativo de resultado de investigación</td>\n",
       "      <td>0</td>\n",
       "      <td>1</td>\n",
       "      <td>147</td>\n",
       "    </tr>\n",
       "    <tr>\n",
       "      <th>71</th>\n",
       "      <td>minciencias</td>\n",
       "      <td>minciencias</td>\n",
       "      <td>Informe técnico final</td>\n",
       "      <td>0</td>\n",
       "      <td>1</td>\n",
       "      <td>96</td>\n",
       "    </tr>\n",
       "    <tr>\n",
       "      <th>70</th>\n",
       "      <td>minciencias</td>\n",
       "      <td>minciencias</td>\n",
       "      <td>Desarrollo tecnológico e innovación</td>\n",
       "      <td>0</td>\n",
       "      <td>0</td>\n",
       "      <td>81</td>\n",
       "    </tr>\n",
       "    <tr>\n",
       "      <th>67</th>\n",
       "      <td>minciencias</td>\n",
       "      <td>minciencias</td>\n",
       "      <td>Publicaciones editoriales no especializadas</td>\n",
       "      <td>0</td>\n",
       "      <td>1</td>\n",
       "      <td>46</td>\n",
       "    </tr>\n",
       "    <tr>\n",
       "      <th>69</th>\n",
       "      <td>minciencias</td>\n",
       "      <td>minciencias</td>\n",
       "      <td>Generación de contenido impresa</td>\n",
       "      <td>0</td>\n",
       "      <td>1</td>\n",
       "      <td>33</td>\n",
       "    </tr>\n",
       "    <tr>\n",
       "      <th>68</th>\n",
       "      <td>minciencias</td>\n",
       "      <td>minciencias</td>\n",
       "      <td>Libros de Divulgación de investigación y/o Compilación de Divulgación</td>\n",
       "      <td>0</td>\n",
       "      <td>1</td>\n",
       "      <td>14</td>\n",
       "    </tr>\n",
       "    <tr>\n",
       "      <th>64</th>\n",
       "      <td>minciencias</td>\n",
       "      <td>minciencias</td>\n",
       "      <td>Notas científica</td>\n",
       "      <td>0</td>\n",
       "      <td>1</td>\n",
       "      <td>13</td>\n",
       "    </tr>\n",
       "  </tbody>\n",
       "</table>\n",
       "</div>"
      ],
      "text/plain": [
       "     provenance       source  \\\n",
       "51  minciencias  minciencias   \n",
       "50  minciencias  minciencias   \n",
       "57  minciencias  minciencias   \n",
       "56  minciencias  minciencias   \n",
       "53  minciencias  minciencias   \n",
       "52  minciencias  minciencias   \n",
       "59  minciencias  minciencias   \n",
       "54  minciencias  minciencias   \n",
       "65  minciencias  minciencias   \n",
       "58  minciencias  minciencias   \n",
       "60  minciencias  minciencias   \n",
       "63  minciencias  minciencias   \n",
       "55  minciencias  minciencias   \n",
       "62  minciencias  minciencias   \n",
       "61  minciencias  minciencias   \n",
       "66  minciencias  minciencias   \n",
       "71  minciencias  minciencias   \n",
       "70  minciencias  minciencias   \n",
       "67  minciencias  minciencias   \n",
       "69  minciencias  minciencias   \n",
       "68  minciencias  minciencias   \n",
       "64  minciencias  minciencias   \n",
       "\n",
       "                                                                       type  \\\n",
       "51                                                       Nuevo conocimiento   \n",
       "50                                               Artículos de investigación   \n",
       "57                                              Formación de recurso humano   \n",
       "56                                                        Tesis de pregrado   \n",
       "53                                      Apropiación social del conocimiento   \n",
       "52                                                                Artículos   \n",
       "59                                                        Tesis de maestria   \n",
       "54                                                       Capítulos de libro   \n",
       "65                                           Informe Final de Investigación   \n",
       "58  Apropiación social del conocimiento y divulgación pública de la ciencia   \n",
       "60                                                                   Libros   \n",
       "63                                                       Tesis de doctorado   \n",
       "55                                      Capítulos de libro de investigación   \n",
       "62                                                     Documento de trabajo   \n",
       "61                                                  Libros de investigación   \n",
       "66                        Boletín divulgativo de resultado de investigación   \n",
       "71                                                    Informe técnico final   \n",
       "70                                      Desarrollo tecnológico e innovación   \n",
       "67                              Publicaciones editoriales no especializadas   \n",
       "69                                          Generación de contenido impresa   \n",
       "68    Libros de Divulgación de investigación y/o Compilación de Divulgación   \n",
       "64                                                         Notas científica   \n",
       "\n",
       "   code  level  counts  \n",
       "51    0      0   18026  \n",
       "50    0      1   13401  \n",
       "57    0      0   11695  \n",
       "56    0      1    6958  \n",
       "53    0      0    5761  \n",
       "52    0      1    5553  \n",
       "59    0      1    3939  \n",
       "54    0      1    1727  \n",
       "65    0      1    1101  \n",
       "58    0      0    1089  \n",
       "60    0      1     903  \n",
       "63    0      1     860  \n",
       "55    0      1     858  \n",
       "62    0      1     769  \n",
       "61    0      1     296  \n",
       "66    0      1     147  \n",
       "71    0      1      96  \n",
       "70    0      0      81  \n",
       "67    0      1      46  \n",
       "69    0      1      33  \n",
       "68    0      1      14  \n",
       "64    0      1      13  "
      ]
     },
     "execution_count": 249,
     "metadata": {},
     "output_type": "execute_result"
    }
   ],
   "source": [
    "tp[tp['provenance'] == 'minciencias'].sort_values('counts', ascending=False)"
   ]
  },
  {
   "cell_type": "markdown",
   "id": "56570691-0a68-4ddc-8161-d4b287a33913",
   "metadata": {},
   "source": [
    "Scienti with different `level = 1`"
   ]
  },
  {
   "cell_type": "code",
   "execution_count": 139,
   "id": "33c7b981-9ff8-48d7-92ad-4b083f8cfee3",
   "metadata": {},
   "outputs": [
    {
     "data": {
      "text/plain": [
       "2"
      ]
     },
     "execution_count": 139,
     "metadata": {},
     "output_type": "execute_result"
    }
   ],
   "source": [
    "[1,1].count(1)"
   ]
  },
  {
   "cell_type": "code",
   "execution_count": 197,
   "id": "a5a8205c-8e9b-4e64-b70f-b65fcba85a88",
   "metadata": {},
   "outputs": [],
   "source": [
    "df['level_0_scienti'] = df['types'].apply(\n",
    "    lambda L: set([d.get('type') for d in L if d.get('provenance') == 'scienti' and d.get('level') == 0\n",
    "              ]))\n",
    "df['level_1_scienti'] = df['types'].apply(\n",
    "    lambda L: set([d.get('type') for d in L if d.get('provenance') == 'scienti' and d.get('level') == 1\n",
    "              ]))\n",
    "\n",
    "df['level_2_scienti'] = df['types'].apply(\n",
    "    lambda L: set([d.get('type') for d in L if d.get('provenance') == 'scienti' and d.get('level') == 2\n",
    "              ]))"
   ]
  },
  {
   "cell_type": "code",
   "execution_count": 180,
   "id": "9bb11fb0-26b7-4a27-a715-8f69f95d1779",
   "metadata": {},
   "outputs": [
    {
     "data": {
      "text/plain": [
       "Index(['apc', 'authors', 'authors_count', 'bibliographic_info', 'citations',\n",
       "       'citations_by_year', 'citations_count', 'date_published', 'doi',\n",
       "       'external_ids', 'external_urls', 'groups', 'id', 'keywords',\n",
       "       'open_access', 'ranking', 'references', 'source', 'subjects', 'titles',\n",
       "       'types', 'updated', 'year_published', 'provenance', 'type',\n",
       "       'level_1_scienti', 'level_0_scienti'],\n",
       "      dtype='object')"
      ]
     },
     "execution_count": 180,
     "metadata": {},
     "output_type": "execute_result"
    }
   ],
   "source": [
    "df.columns"
   ]
  },
  {
   "cell_type": "code",
   "execution_count": 188,
   "id": "b8ddadbc-cbbd-4d89-ba89-1d02c362baca",
   "metadata": {},
   "outputs": [
    {
     "data": {
      "text/plain": [
       "{'level_1_scienti': {'Artículo',\n",
       "  'Trabajo de grado de maestría o especialidad clínica'},\n",
       " 'external_ids': [{'id': 'https://openalex.org/W2919756093',\n",
       "   'provenance': 'openalex',\n",
       "   'source': 'openalex'},\n",
       "  {'id': 'https://doi.org/10.4067/s0718-07642019000100063',\n",
       "   'provenance': 'openalex',\n",
       "   'source': 'doi'},\n",
       "  {'id': 2919756093, 'provenance': 'openalex', 'source': 'mag'},\n",
       "  {'id': '0001038680-150', 'provenance': 'scienti', 'source': 'scienti'},\n",
       "  {'id': 'https://doi.org/10.4067/s0718-07642019000100063',\n",
       "   'provenance': 'scienti',\n",
       "   'source': 'doi'},\n",
       "  {'id': '16583-71774979-1735087526',\n",
       "   'provenance': 'ciarp',\n",
       "   'source': 'ciarp'},\n",
       "  {'id': '16821-10112268-1735087526',\n",
       "   'provenance': 'ciarp',\n",
       "   'source': 'ciarp'},\n",
       "  {'id': '16875-1037236912-1735087526',\n",
       "   'provenance': 'ciarp',\n",
       "   'source': 'ciarp'},\n",
       "  {'id': 'd-fSxi2TEk8J', 'provenance': 'scholar', 'source': 'scholar'},\n",
       "  {'id': '0000031186-119', 'provenance': 'scienti', 'source': 'scienti'},\n",
       "  {'id': '0000057907-16', 'provenance': 'scienti', 'source': 'scienti'},\n",
       "  {'id': 'ART-0000031186-126',\n",
       "   'provenance': 'minciencias',\n",
       "   'source': 'minciencias'},\n",
       "  {'id': '0000031186-126', 'provenance': 'minciencias', 'source': 'scienti'}]}"
      ]
     },
     "execution_count": 188,
     "metadata": {},
     "output_type": "execute_result"
    }
   ],
   "source": [
    "df[ df['level_0_scienti'].apply(len) > 1][['level_1_scienti','external_ids']].sample().iloc[0].to_dict()"
   ]
  },
  {
   "cell_type": "code",
   "execution_count": 196,
   "id": "4aa97d4e-5d65-4b69-8809-7e1123615f8c",
   "metadata": {},
   "outputs": [
    {
     "data": {
      "text/plain": [
       "{'level_0_scienti': {'Producción bibliográfica'},\n",
       " 'level_1_scienti': {'Artículo', 'Libro', 'Otro artículo publicado'},\n",
       " 'external_ids': [{'id': 'https://openalex.org/W2605003487',\n",
       "   'provenance': 'openalex',\n",
       "   'source': 'openalex'},\n",
       "  {'id': 'https://doi.org/10.1007/978-981-10-4086-3_151',\n",
       "   'provenance': 'openalex',\n",
       "   'source': 'doi'},\n",
       "  {'id': 2605003487, 'provenance': 'openalex', 'source': 'mag'},\n",
       "  {'id': '0001119923-53', 'provenance': 'scienti', 'source': 'scienti'},\n",
       "  {'id': 'https://doi.org/10.1007/978-981-10-4086-3_151',\n",
       "   'provenance': 'scienti',\n",
       "   'source': 'doi'},\n",
       "  {'id': '0001119923-54', 'provenance': 'scienti', 'source': 'scienti'},\n",
       "  {'id': '0001119923-98', 'provenance': 'scienti', 'source': 'scienti'},\n",
       "  {'id': '0001131826-160', 'provenance': 'scienti', 'source': 'scienti'},\n",
       "  {'id': 'P4u_qT0YTzQJ', 'provenance': 'scholar', 'source': 'scholar'},\n",
       "  {'id': '0001119923-86', 'provenance': 'scienti', 'source': 'scienti'},\n",
       "  {'id': '17766-8129113-1735098120', 'provenance': 'ciarp', 'source': 'ciarp'},\n",
       "  {'id': 'ART-0001119923-54',\n",
       "   'provenance': 'minciencias',\n",
       "   'source': 'minciencias'},\n",
       "  {'id': '0001119923-54', 'provenance': 'minciencias', 'source': 'scienti'}]}"
      ]
     },
     "execution_count": 196,
     "metadata": {},
     "output_type": "execute_result"
    }
   ],
   "source": [
    "df[ df['level_1_scienti'].apply(len) > 1][['level_0_scienti','level_1_scienti','external_ids']].sample().iloc[0].to_dict()"
   ]
  },
  {
   "cell_type": "code",
   "execution_count": 206,
   "id": "334ba201-7c13-4c2d-86a4-60d365593c66",
   "metadata": {},
   "outputs": [
    {
     "data": {
      "text/plain": [
       "{'level_0_scienti': {'Producción bibliográfica'},\n",
       " 'level_1_scienti': {'Libro'},\n",
       " 'level_2_scienti': {'Libro resultado de investigación',\n",
       "  'Otro capítulo de libro publicado'},\n",
       " 'external_ids': [{'id': '0000080160-35',\n",
       "   'provenance': 'scienti',\n",
       "   'source': 'scienti'},\n",
       "  {'id': '0000080160-35', 'provenance': 'scienti', 'source': 'scienti'},\n",
       "  {'id': '0000080640-90', 'provenance': 'scienti', 'source': 'scienti'},\n",
       "  {'id': '0000210803-10', 'provenance': 'scienti', 'source': 'scienti'},\n",
       "  {'id': 'CAP_LIB-0000210803-10',\n",
       "   'provenance': 'minciencias',\n",
       "   'source': 'minciencias'},\n",
       "  {'id': '0000210803-10', 'provenance': 'minciencias', 'source': 'scienti'}]}"
      ]
     },
     "execution_count": 206,
     "metadata": {},
     "output_type": "execute_result"
    }
   ],
   "source": [
    "kk = df[ df['level_2_scienti'].apply(len) > 1]#\n",
    "kk[['level_0_scienti','level_1_scienti','level_2_scienti','external_ids']].sample().iloc[0].to_dict()"
   ]
  },
  {
   "cell_type": "code",
   "execution_count": 209,
   "id": "b79b333e-6578-4bfc-ae6b-49c582bc3c91",
   "metadata": {},
   "outputs": [],
   "source": [
    "import re"
   ]
  },
  {
   "cell_type": "code",
   "execution_count": 211,
   "id": "2ac27cf1-2bb1-4acf-b68c-6f642e216002",
   "metadata": {},
   "outputs": [],
   "source": [
    "re.search('^Libro','A Libro')"
   ]
  },
  {
   "cell_type": "code",
   "execution_count": 238,
   "id": "d35127c1-1e9f-40b5-aaea-0fdc8f3b3064",
   "metadata": {},
   "outputs": [
    {
     "data": {
      "text/plain": [
       "{'level_0_scienti': {'Producción bibliográfica'},\n",
       " 'level_1_scienti': {'Libro'},\n",
       " 'level_2_scienti': {'Capítulo de libro', 'Libro resultado de investigación'},\n",
       " 'external_ids': [{'id': '0000189189-195',\n",
       "   'provenance': 'scienti',\n",
       "   'source': 'scienti'},\n",
       "  {'id': '0000189189-195', 'provenance': 'scienti', 'source': 'scienti'},\n",
       "  {'id': '0001125630-58', 'provenance': 'scienti', 'source': 'scienti'},\n",
       "  {'id': '0001269402-55', 'provenance': 'scienti', 'source': 'scienti'},\n",
       "  {'id': '0001370195-36', 'provenance': 'scienti', 'source': 'scienti'},\n",
       "  {'id': '2181-354084-1735098120', 'provenance': 'ciarp', 'source': 'ciarp'},\n",
       "  {'id': 'LIB-0000189189-195',\n",
       "   'provenance': 'minciencias',\n",
       "   'source': 'minciencias'},\n",
       "  {'id': '0000189189-195', 'provenance': 'minciencias', 'source': 'scienti'}]}"
      ]
     },
     "execution_count": 238,
     "metadata": {},
     "output_type": "execute_result"
    }
   ],
   "source": [
    "kkk = kk[kk['level_2_scienti'].apply(\n",
    "    lambda L: [x for x in L if re.search('^Libro',x)]).apply(len) > 0\n",
    "                       ]\n",
    "kkk[kkk['level_2_scienti'].apply(lambda L: [x for x in L if re.search('Capítulo',x)]).apply(len) > 0\n",
    "    ][['level_0_scienti','level_1_scienti','level_2_scienti','external_ids']].sample().iloc[0].to_dict()"
   ]
  },
  {
   "cell_type": "code",
   "execution_count": 240,
   "id": "ae4ae70f-9857-40a6-8363-79a225f2a97b",
   "metadata": {},
   "outputs": [],
   "source": [
    "tpu = df[((df['provenance'].apply(lambda L: p in L) ) & \n",
    "        (df['source'].apply(lambda L: s in L)) & \n",
    "        (df['type'].apply(lambda L: t in L))\n",
    "       )][['provenance','source','type']].astype(str).drop_duplicates().reset_index(drop=True)\n",
    "\n",
    "tpu['provenance'] = tpu['provenance'].apply(eval)\n",
    "\n",
    "tpu['source'] = tpu['source'].apply(eval)\n",
    "\n",
    "tpu['type'] = tpu['type'].apply(eval)"
   ]
  },
  {
   "cell_type": "code",
   "execution_count": 117,
   "id": "9c79d21b-c8db-4f82-a5d5-30de539d76a3",
   "metadata": {},
   "outputs": [],
   "source": [
    "pd.set_option('display.max_colwidth',500)"
   ]
  },
  {
   "cell_type": "code",
   "execution_count": 119,
   "id": "c0a739b3-1779-438b-81ab-49168e430602",
   "metadata": {},
   "outputs": [],
   "source": [
    "#pd.set_option('display.max_rows', 500)"
   ]
  },
  {
   "cell_type": "code",
   "execution_count": 239,
   "id": "90d16478-db68-4e2a-84a6-4282b74a9f44",
   "metadata": {},
   "outputs": [
    {
     "data": {
      "text/html": [
       "<div>\n",
       "<style scoped>\n",
       "    .dataframe tbody tr th:only-of-type {\n",
       "        vertical-align: middle;\n",
       "    }\n",
       "\n",
       "    .dataframe tbody tr th {\n",
       "        vertical-align: top;\n",
       "    }\n",
       "\n",
       "    .dataframe thead th {\n",
       "        text-align: right;\n",
       "    }\n",
       "</style>\n",
       "<table border=\"1\" class=\"dataframe\">\n",
       "  <thead>\n",
       "    <tr style=\"text-align: right;\">\n",
       "      <th></th>\n",
       "      <th>provenance</th>\n",
       "      <th>source</th>\n",
       "      <th>type</th>\n",
       "    </tr>\n",
       "  </thead>\n",
       "  <tbody>\n",
       "    <tr>\n",
       "      <th>0</th>\n",
       "      <td>{minciencias, openalex, scholar}</td>\n",
       "      <td>{minciencias, openalex, crossref, scholar}</td>\n",
       "      <td>{Artículos, article, reference-entry, Apropiación social del conocimiento}</td>\n",
       "    </tr>\n",
       "  </tbody>\n",
       "</table>\n",
       "</div>"
      ],
      "text/plain": [
       "                         provenance  \\\n",
       "0  {minciencias, openalex, scholar}   \n",
       "\n",
       "                                       source  \\\n",
       "0  {minciencias, openalex, crossref, scholar}   \n",
       "\n",
       "                                                                         type  \n",
       "0  {Artículos, article, reference-entry, Apropiación social del conocimiento}  "
      ]
     },
     "execution_count": 239,
     "metadata": {},
     "output_type": "execute_result"
    }
   ],
   "source": [
    "tpu[:1]"
   ]
  },
  {
   "cell_type": "markdown",
   "id": "28d29468-315b-4bd8-8c5f-54b44708751d",
   "metadata": {},
   "source": [
    "minciencias → scienti"
   ]
  },
  {
   "cell_type": "code",
   "execution_count": 275,
   "id": "38e03ecf-c550-42bb-9c47-a4a36059f168",
   "metadata": {},
   "outputs": [
    {
     "data": {
      "text/html": [
       "<div>\n",
       "<style scoped>\n",
       "    .dataframe tbody tr th:only-of-type {\n",
       "        vertical-align: middle;\n",
       "    }\n",
       "\n",
       "    .dataframe tbody tr th {\n",
       "        vertical-align: top;\n",
       "    }\n",
       "\n",
       "    .dataframe thead th {\n",
       "        text-align: right;\n",
       "    }\n",
       "</style>\n",
       "<table border=\"1\" class=\"dataframe\">\n",
       "  <thead>\n",
       "    <tr style=\"text-align: right;\">\n",
       "      <th></th>\n",
       "      <th>type</th>\n",
       "      <th>provenance</th>\n",
       "      <th>types</th>\n",
       "    </tr>\n",
       "  </thead>\n",
       "  <tbody>\n",
       "    <tr>\n",
       "      <th>50688</th>\n",
       "      <td>{Informe Final de Investigación, Libro resultado de investigación, Desarrollo tecnológico e innovación, Producción bibliográfica, Libro}</td>\n",
       "      <td>{scienti, minciencias}</td>\n",
       "      <td>[{'code': '134', 'level': 2, 'provenance': 'scienti', 'source': 'scienti', 'type': 'Libro resultado de investigación'}, {'code': '13', 'level': 1, 'provenance': 'scienti', 'source': 'scienti', 'type': 'Libro'}, {'code': '1', 'level': 0, 'provenance': 'scienti', 'source': 'scienti', 'type': 'Producción bibliográfica'}, {'code': '134', 'level': 2, 'provenance': 'scienti', 'source': 'scienti', 'type': 'Libro resultado de investigación'}, {'code': '13', 'level': 1, 'provenance': 'scienti', 'sour...</td>\n",
       "    </tr>\n",
       "    <tr>\n",
       "      <th>80826</th>\n",
       "      <td>{Resumen, Informe técnico final, Desarrollo tecnológico e innovación, Producción bibliográfica, Trabajos en eventos (Capítulos de memoria)}</td>\n",
       "      <td>{scienti, minciencias}</td>\n",
       "      <td>[{'code': '122', 'level': 2, 'provenance': 'scienti', 'source': 'scienti', 'type': 'Resumen'}, {'code': '12', 'level': 1, 'provenance': 'scienti', 'source': 'scienti', 'type': 'Trabajos en eventos (Capítulos de memoria)'}, {'code': '1', 'level': 0, 'provenance': 'scienti', 'source': 'scienti', 'type': 'Producción bibliográfica'}, {'code': '122', 'level': 2, 'provenance': 'scienti', 'source': 'scienti', 'type': 'Resumen'}, {'code': '12', 'level': 1, 'provenance': 'scienti', 'source': 'scienti...</td>\n",
       "    </tr>\n",
       "    <tr>\n",
       "      <th>87615</th>\n",
       "      <td>{Informe técnico final, Trabajos dirigidos/Tutorías de otro tipo, Desarrollo tecnológico e innovación, Trabajos dirigidos/Tutorías}</td>\n",
       "      <td>{scienti, minciencias}</td>\n",
       "      <td>[{'code': '66', 'level': 1, 'provenance': 'scienti', 'source': 'scienti', 'type': 'Trabajos dirigidos/Tutorías de otro tipo'}, {'code': '6', 'level': 0, 'provenance': 'scienti', 'source': 'scienti', 'type': 'Trabajos dirigidos/Tutorías'}, {'code': '66', 'level': 1, 'provenance': 'scienti', 'source': 'scienti', 'type': 'Trabajos dirigidos/Tutorías de otro tipo'}, {'code': '6', 'level': 0, 'provenance': 'scienti', 'source': 'scienti', 'type': 'Trabajos dirigidos/Tutorías'}, {'level': 1, 'prove...</td>\n",
       "    </tr>\n",
       "  </tbody>\n",
       "</table>\n",
       "</div>"
      ],
      "text/plain": [
       "                                                                                                                                              type  \\\n",
       "50688     {Informe Final de Investigación, Libro resultado de investigación, Desarrollo tecnológico e innovación, Producción bibliográfica, Libro}   \n",
       "80826  {Resumen, Informe técnico final, Desarrollo tecnológico e innovación, Producción bibliográfica, Trabajos en eventos (Capítulos de memoria)}   \n",
       "87615          {Informe técnico final, Trabajos dirigidos/Tutorías de otro tipo, Desarrollo tecnológico e innovación, Trabajos dirigidos/Tutorías}   \n",
       "\n",
       "                   provenance  \\\n",
       "50688  {scienti, minciencias}   \n",
       "80826  {scienti, minciencias}   \n",
       "87615  {scienti, minciencias}   \n",
       "\n",
       "                                                                                                                                                                                                                                                                                                                                                                                                                                                                                                                     types  \n",
       "50688  [{'code': '134', 'level': 2, 'provenance': 'scienti', 'source': 'scienti', 'type': 'Libro resultado de investigación'}, {'code': '13', 'level': 1, 'provenance': 'scienti', 'source': 'scienti', 'type': 'Libro'}, {'code': '1', 'level': 0, 'provenance': 'scienti', 'source': 'scienti', 'type': 'Producción bibliográfica'}, {'code': '134', 'level': 2, 'provenance': 'scienti', 'source': 'scienti', 'type': 'Libro resultado de investigación'}, {'code': '13', 'level': 1, 'provenance': 'scienti', 'sour...  \n",
       "80826  [{'code': '122', 'level': 2, 'provenance': 'scienti', 'source': 'scienti', 'type': 'Resumen'}, {'code': '12', 'level': 1, 'provenance': 'scienti', 'source': 'scienti', 'type': 'Trabajos en eventos (Capítulos de memoria)'}, {'code': '1', 'level': 0, 'provenance': 'scienti', 'source': 'scienti', 'type': 'Producción bibliográfica'}, {'code': '122', 'level': 2, 'provenance': 'scienti', 'source': 'scienti', 'type': 'Resumen'}, {'code': '12', 'level': 1, 'provenance': 'scienti', 'source': 'scienti...  \n",
       "87615  [{'code': '66', 'level': 1, 'provenance': 'scienti', 'source': 'scienti', 'type': 'Trabajos dirigidos/Tutorías de otro tipo'}, {'code': '6', 'level': 0, 'provenance': 'scienti', 'source': 'scienti', 'type': 'Trabajos dirigidos/Tutorías'}, {'code': '66', 'level': 1, 'provenance': 'scienti', 'source': 'scienti', 'type': 'Trabajos dirigidos/Tutorías de otro tipo'}, {'code': '6', 'level': 0, 'provenance': 'scienti', 'source': 'scienti', 'type': 'Trabajos dirigidos/Tutorías'}, {'level': 1, 'prove...  "
      ]
     },
     "execution_count": 275,
     "metadata": {},
     "output_type": "execute_result"
    }
   ],
   "source": [
    "kk = df[df['type'].apply(lambda L:'Desarrollo tecnológico e innovación' in L)]\n",
    "kk[kk['provenance'].apply(lambda L: 'scienti' in L)][['type','provenance','types']]#.to_dict(orient = 'records')"
   ]
  },
  {
   "cell_type": "code",
   "execution_count": null,
   "id": "b6a48dd2-07e9-4514-91bb-eb5538ea19e5",
   "metadata": {},
   "outputs": [],
   "source": []
  }
 ],
 "metadata": {
  "kernelspec": {
   "display_name": "Python 3 (ipykernel)",
   "language": "python",
   "name": "python3"
  },
  "language_info": {
   "codemirror_mode": {
    "name": "ipython",
    "version": 3
   },
   "file_extension": ".py",
   "mimetype": "text/x-python",
   "name": "python",
   "nbconvert_exporter": "python",
   "pygments_lexer": "ipython3",
   "version": "3.12.3"
  }
 },
 "nbformat": 4,
 "nbformat_minor": 5
}
