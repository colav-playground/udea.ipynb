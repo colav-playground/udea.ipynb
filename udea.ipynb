{
 "cells": [
  {
   "cell_type": "markdown",
   "id": "e0175a95-5fb6-479d-a494-b14d7e8b120c",
   "metadata": {},
   "source": [
    "# REST-API example impactu"
   ]
  },
  {
   "cell_type": "code",
   "execution_count": 538,
   "id": "df3e240a-624a-452f-ae5e-08b29e45abb7",
   "metadata": {},
   "outputs": [],
   "source": [
    "import pandas as pd\n",
    "import requests\n",
    "import json\n",
    "from IPython.display import JSON\n",
    "from unidecode import unidecode"
   ]
  },
  {
   "cell_type": "markdown",
   "id": "7a65fa5f-43f2-4aa8-a270-9db2673a875c",
   "metadata": {},
   "source": [
    "Obtain \"Uiversidad de Antioquia\" works"
   ]
  },
  {
   "cell_type": "code",
   "execution_count": 1,
   "id": "95dbcdbe-ce06-419a-b9c3-bba540ef03bc",
   "metadata": {},
   "outputs": [
    {
     "name": "stdout",
     "output_type": "stream",
     "text": [
      "421\r"
     ]
    }
   ],
   "source": [
    "import pandas as pd\n",
    "import requests\n",
    "#%%time\n",
    "DJ = []\n",
    "total = 105018 \n",
    "#total = 965\n",
    "page_ini = 1\n",
    "max_page = 250\n",
    "extra_page = 0\n",
    "if total%max_page != 0:\n",
    "    extra_page = 1\n",
    "page_end = total//max_page + extra_page\n",
    "for p in range(page_ini,page_end+1):\n",
    "    url = f'https://api.impactu.colav.co/affiliation/institution/03bp5hc83/research/products?max={max_page}&page={p}'\n",
    "    #url = f'https://api.impactu.colav.co/search/works?max={max_page}&page={p}&status=diamond&subjects=1_Library+science'\n",
    "    dj = requests.get(url)\n",
    "    if dj.status_code == 200:\n",
    "        print(p,end=\"\\r\")\n",
    "        jl = dj.json()['data']\n",
    "        for d in jl:\n",
    "            kk = d.pop('abstracts')\n",
    "        i = 0\n",
    "        for d in jl:\n",
    "            if len(jl[i]['authors']) > 10:\n",
    "                kk = jl.pop(i)\n",
    "            else:\n",
    "                i += 1        \n",
    "\n",
    "        \n",
    "        DJ = DJ +  jl"
   ]
  },
  {
   "cell_type": "code",
   "execution_count": 7,
   "id": "7ca064be-0ffa-45fa-ae64-14fad89ed26d",
   "metadata": {},
   "outputs": [
    {
     "data": {
      "text/plain": [
       "102165"
      ]
     },
     "execution_count": 7,
     "metadata": {},
     "output_type": "execute_result"
    }
   ],
   "source": [
    "len(DJ)"
   ]
  },
  {
   "cell_type": "markdown",
   "id": "da29bd81-3313-4fd4-a481-b885f9888230",
   "metadata": {},
   "source": [
    "save the list to a JSON file"
   ]
  },
  {
   "cell_type": "code",
   "execution_count": 5,
   "id": "367cba4b-88da-4af2-84ed-560286404efc",
   "metadata": {},
   "outputs": [],
   "source": [
    "f = open('udea.json','w')\n",
    "json.dump(DJ,f)\n",
    "f.close()"
   ]
  },
  {
   "cell_type": "code",
   "execution_count": 6,
   "id": "c02e6be6-da81-4b9f-a657-df1d60f5d734",
   "metadata": {},
   "outputs": [
    {
     "name": "stdout",
     "output_type": "stream",
     "text": [
      "-rw-r--r-- 1 restrepo restrepo 860M Feb 13 13:30 udea.json\n"
     ]
    }
   ],
   "source": [
    "ls -lh udea.json"
   ]
  },
  {
   "cell_type": "code",
   "execution_count": 34,
   "id": "e230cb90-0684-41dd-b107-68342c65f66e",
   "metadata": {},
   "outputs": [],
   "source": [
    "f = open('udea.json','r')\n",
    "DJ = json.load(f)\n",
    "f.close()"
   ]
  },
  {
   "cell_type": "markdown",
   "id": "4611786d-3970-4abd-b87b-4cff27c10834",
   "metadata": {},
   "source": [
    "## Anlysis in pandas"
   ]
  },
  {
   "cell_type": "code",
   "execution_count": 597,
   "id": "1d32c2f9-fae8-4f16-88a9-6f08ffc8712e",
   "metadata": {},
   "outputs": [],
   "source": [
    "df = pd.DataFrame(DJ)"
   ]
  },
  {
   "cell_type": "code",
   "execution_count": 598,
   "id": "9be33ea6-12e0-4fd4-970c-0f37b4dab039",
   "metadata": {},
   "outputs": [
    {
     "data": {
      "text/plain": [
       "(102165, 23)"
      ]
     },
     "execution_count": 598,
     "metadata": {},
     "output_type": "execute_result"
    }
   ],
   "source": [
    "df.shape"
   ]
  },
  {
   "cell_type": "code",
   "execution_count": 599,
   "id": "1df075a1-e547-423c-abcf-6ed4973bbe20",
   "metadata": {},
   "outputs": [],
   "source": [
    "df = df[df['external_ids'].apply(lambda L: any([True for d in L if d.get('provenance') == 'scienti' and d.get('source') == 'scienti']))].reset_index(drop=True)"
   ]
  },
  {
   "cell_type": "code",
   "execution_count": 600,
   "id": "9d6acee6-a635-4782-92eb-9d0450ebad29",
   "metadata": {},
   "outputs": [
    {
     "data": {
      "text/plain": [
       "(80052, 23)"
      ]
     },
     "execution_count": 600,
     "metadata": {},
     "output_type": "execute_result"
    }
   ],
   "source": [
    "df.shape"
   ]
  },
  {
   "cell_type": "markdown",
   "id": "8d74168c-a045-4b7d-a6e4-1c5ae5a82b44",
   "metadata": {},
   "source": [
    "search authors"
   ]
  },
  {
   "cell_type": "code",
   "execution_count": 601,
   "id": "00b041e3-4fe6-4785-9a2e-a3316f73f018",
   "metadata": {},
   "outputs": [],
   "source": [
    "full_name = 'diego alejandro restrepo quintero'\n",
    "#full_name = 'carlos alberto duque echeverri'\n",
    "dfa = df[df.authors.apply(lambda L: any([True for d in L if unidecode(str(d.get('full_name')).lower()) == full_name ]))]"
   ]
  },
  {
   "cell_type": "markdown",
   "id": "e8ffdc87-a996-4b6b-8c19-e9f36d71e3e2",
   "metadata": {},
   "source": [
    "Check the json:"
   ]
  },
  {
   "cell_type": "code",
   "execution_count": 646,
   "id": "fefef276-181d-40e8-9c53-3a86b704d513",
   "metadata": {},
   "outputs": [],
   "source": [
    "#JSON(dfa.authors.iloc[0])"
   ]
  },
  {
   "cell_type": "markdown",
   "id": "dea62903-0191-4d04-9b12-33eed5994032",
   "metadata": {},
   "source": [
    "De conformidad  con lo dispuesto en el Acuerdo Superior 083 del 22 de julio de 1996 (Estatuto profesoral) la carrera docente de la institución se compone  de las categorías de profesor auxiliar, profesor asistente, profesor asociado y profesor titular. "
   ]
  },
  {
   "cell_type": "code",
   "execution_count": 604,
   "id": "044b148b-cb1d-488f-8441-a2462c81e2d7",
   "metadata": {},
   "outputs": [],
   "source": [
    "#JSON(df.authors.iloc[80049])"
   ]
  },
  {
   "cell_type": "markdown",
   "id": "b5c03d3f-d3d7-4d7c-b810-f4593d6bc903",
   "metadata": {},
   "source": [
    "remove not scienti authors..."
   ]
  },
  {
   "cell_type": "code",
   "execution_count": 609,
   "id": "b4fb944e-cbd1-4741-b801-fc30dc48ad73",
   "metadata": {},
   "outputs": [],
   "source": [
    "df['scienti_authors'] = df.authors.apply(lambda L: [\n",
    "                          {'COD_RH':d.get('external_ids')[0].get('id'),\n",
    "                           'last_names':d.get('last_names'),\n",
    "                           'first_names':d.get('first_names'),\n",
    "                           'sex':d.get('sex').lower(),\n",
    "                           'age':d.get('age'),\n",
    "                           'affiliations': [{'name': dd.get('name'),\n",
    "                                             'id': dd.get('id'),\n",
    "                                             'type': dd.get('types')[0].get('type')\n",
    "                                            } for dd in d.get('affiliations')],\n",
    "                           'ranking': [dd for dd in d.get('ranking') if dd.get('source') == 'categoría_laboral' ]\n",
    "                          } for d in L \n",
    "                            if d.get('sex') and \n",
    "                            any([True for dd in d.get('external_ids') \n",
    "                                 if dd.get('provenance') == 'scienti' and dd.get('source') == 'scienti'])   ])"
   ]
  },
  {
   "cell_type": "code",
   "execution_count": 611,
   "id": "836aeca1-5bf5-439e-b945-afaceb8fc411",
   "metadata": {},
   "outputs": [],
   "source": [
    "L = df['scienti_authors'].to_list()"
   ]
  },
  {
   "cell_type": "code",
   "execution_count": 612,
   "id": "588ef559-b4ce-48dd-a111-e611f43c7f77",
   "metadata": {},
   "outputs": [],
   "source": [
    "def flatten(xss):\n",
    "    return [x for xs in xss for x in xs]"
   ]
  },
  {
   "cell_type": "code",
   "execution_count": 613,
   "id": "42c89017-fbd8-46ed-8084-dc850c8ab470",
   "metadata": {},
   "outputs": [],
   "source": [
    "L = flatten(L)"
   ]
  },
  {
   "cell_type": "code",
   "execution_count": 614,
   "id": "84385a47-56f1-48f4-a19d-74e3645a16d9",
   "metadata": {},
   "outputs": [],
   "source": [
    "df = pd.DataFrame(L)"
   ]
  },
  {
   "cell_type": "code",
   "execution_count": 616,
   "id": "73b5e8c2-d908-411e-b766-3cb2ffeedf63",
   "metadata": {},
   "outputs": [],
   "source": [
    "del L"
   ]
  },
  {
   "cell_type": "code",
   "execution_count": 617,
   "id": "37c33745-c35e-4fe0-8a09-fe93ca3df75c",
   "metadata": {},
   "outputs": [
    {
     "data": {
      "text/plain": [
       "(109987, 7)"
      ]
     },
     "execution_count": 617,
     "metadata": {},
     "output_type": "execute_result"
    }
   ],
   "source": [
    "df.shape"
   ]
  },
  {
   "cell_type": "code",
   "execution_count": 618,
   "id": "14adbe77-347a-43ef-bff9-da9b7838e5d6",
   "metadata": {},
   "outputs": [],
   "source": [
    "udea = df[df['affiliations'].apply(lambda L: [d.get('name') for d in L \n",
    "         if d.get('type') == 'Education' and d.get('name') == 'Universidad de Antioquia']).apply(len)>0\n",
    "         ].reset_index(drop=True)"
   ]
  },
  {
   "cell_type": "code",
   "execution_count": 619,
   "id": "fbd0df31-5644-4c69-9f67-91b0f32693c4",
   "metadata": {},
   "outputs": [
    {
     "data": {
      "text/plain": [
       "['Universidad de Antioquia', 'Universidad de Pamplona']"
      ]
     },
     "execution_count": 619,
     "metadata": {},
     "output_type": "execute_result"
    }
   ],
   "source": [
    "udea['affiliations'].apply(lambda L: [d.get('name') for d in L \n",
    "         if d.get('type') == 'Education']).iloc[0]"
   ]
  },
  {
   "cell_type": "code",
   "execution_count": 620,
   "id": "161078a0-78eb-4783-88bf-8f3c71b4e786",
   "metadata": {},
   "outputs": [
    {
     "data": {
      "text/plain": [
       "[{'name': 'Universidad de Antioquia', 'id': '03bp5hc83', 'type': 'Education'},\n",
       " {'name': 'Instituto de Biología',\n",
       "  'id': '03bp5hc83_3_21420003_3513',\n",
       "  'type': 'department'},\n",
       " {'name': 'Facultad de Ciencias Exactas y Naturales',\n",
       "  'id': '03bp5hc83_3',\n",
       "  'type': 'faculty'},\n",
       " {'name': 'Gebiomic (genética y Bioquímica de Microorganismos)',\n",
       "  'id': 'COL0014064',\n",
       "  'type': 'group'},\n",
       " {'name': 'Corporación para Investigaciones Biológicas',\n",
       "  'id': '03evkbw14',\n",
       "  'type': 'Facility'},\n",
       " {'name': 'Universidad de Pamplona', 'id': '04dfr7a85', 'type': 'Education'},\n",
       " {'name': 'Genética, Regeneración y Cáncer',\n",
       "  'id': 'COL0006769',\n",
       "  'type': 'group'}]"
      ]
     },
     "execution_count": 620,
     "metadata": {},
     "output_type": "execute_result"
    }
   ],
   "source": [
    "udea.affiliations.iloc[0]"
   ]
  },
  {
   "cell_type": "code",
   "execution_count": 621,
   "id": "7de16f0e-2f71-4ae1-9648-45173ea318b4",
   "metadata": {},
   "outputs": [],
   "source": [
    "udea['faculty'] = udea['affiliations'].apply(lambda L: [d.get('name') for d in L \n",
    "         if d.get('type') == 'faculty' and d.get('id').find(ror) > -1  ]).apply(lambda L: L  if len(L) > 0 else \n",
    "                                                ['unknown']).str[0]\n",
    "\n",
    "udea['department'] = udea['affiliations'].apply(lambda L: [d.get('name') for d in L \n",
    "         if d.get('type') == 'department' and d.get('id').find(ror) > -1 ]).apply(lambda L: L  if len(L) > 0 else \n",
    "                                                ['unknown']).str[0]\n",
    "\n",
    "udea['group'] = udea['affiliations'].apply(lambda L: [d.get('name') for d in L \n",
    "         if d.get('type') == 'group' ]).apply(lambda L: L  if len(L) > 0 else \n",
    "                                                ['unknown']).str[0]"
   ]
  },
  {
   "cell_type": "code",
   "execution_count": 622,
   "id": "aac0e17d-da5e-4014-956e-89fa9ec02e01",
   "metadata": {},
   "outputs": [
    {
     "data": {
      "text/plain": [
       "(103897, 10)"
      ]
     },
     "execution_count": 622,
     "metadata": {},
     "output_type": "execute_result"
    }
   ],
   "source": [
    "udea.shape"
   ]
  },
  {
   "cell_type": "code",
   "execution_count": 623,
   "id": "b5fe5617-b730-43cf-b950-b41503f67023",
   "metadata": {},
   "outputs": [
    {
     "data": {
      "text/plain": [
       "(4579, 10)"
      ]
     },
     "execution_count": 623,
     "metadata": {},
     "output_type": "execute_result"
    }
   ],
   "source": [
    "udea.drop_duplicates(subset=['COD_RH','sex','age','faculty','department','group']).shape"
   ]
  },
  {
   "cell_type": "code",
   "execution_count": 624,
   "id": "bc920e9a-3d9d-4af2-893f-2581a92862d5",
   "metadata": {},
   "outputs": [
    {
     "data": {
      "text/plain": [
       "(4579, 10)"
      ]
     },
     "execution_count": 624,
     "metadata": {},
     "output_type": "execute_result"
    }
   ],
   "source": [
    "udea.drop_duplicates(subset=['COD_RH']).shape"
   ]
  },
  {
   "cell_type": "code",
   "execution_count": 625,
   "id": "9312c9b9-fed8-40c8-bfb2-4016004eade9",
   "metadata": {},
   "outputs": [],
   "source": [
    "udea = udea.drop_duplicates(subset=['COD_RH']).reset_index(drop=True)"
   ]
  },
  {
   "cell_type": "code",
   "execution_count": 626,
   "id": "d982f9f2-0b0e-4632-be1b-955d4b5c6b10",
   "metadata": {},
   "outputs": [
    {
     "name": "stdout",
     "output_type": "stream",
     "text": [
      "45.9 % of 4577\n"
     ]
    }
   ],
   "source": [
    "fm = udea['sex'].value_counts()\n",
    "print(f\"{round(fm['mujer']/(fm['mujer']+fm['hombre'])*100,1)} % of {fm['mujer']+fm['hombre']}\")"
   ]
  },
  {
   "cell_type": "code",
   "execution_count": 627,
   "id": "7d7953bf-1dd3-415b-b91c-33316854facb",
   "metadata": {},
   "outputs": [
    {
     "name": "stdout",
     "output_type": "stream",
     "text": [
      "UdeA: 45.9 % of 4577\n",
      "Facultad de Ciencias Exactas y Naturales: 25.3 % of 292\n",
      "   Instituto de Biología: 44.0 % of 75\n",
      "   Instituto de Química: 26.2 % of 80\n",
      "   Instituto de Física: 11.5 % of 78\n",
      "   unknown: 33.3 % of 3\n",
      "   Departamento de Matemáticas: 17.0 % of 53\n",
      "   Programa Ingeniería Civil: 0.0 % of 1\n",
      "   Programa Regionalización Urabá: 50.0 % of 2\n",
      "Facultad de Medicina: 43.9 % of 478\n",
      "   Departamento de Cirugía: 24.1 % of 58\n",
      "   Departamento de Farmacología y Toxicología: 50.0 % of 22\n",
      "   Departamento de Microbiología y Parasitología: 56.1 % of 57\n",
      "   Departamento de Pediatría y Puericultura: 54.1 % of 74\n",
      "   Departamento de Medicina Interna: 29.3 % of 75\n",
      "   Instituto de Investigaciones Médicas: 46.2 % of 39\n",
      "   Centro de Investigaciones Médicas: 50.0 % of 8\n",
      "   Departamento de Fisiología: 40.7 % of 27\n",
      "   Departamento de Siquiatría y Ciencias del Comportamiento Humano: 29.4 % of 17\n",
      "   Departamento de Morfología: 33.3 % of 9\n",
      "   Departamento de Bioquímica: 33.3 % of 3\n",
      "   Departamento de Obstetricia y Ginecología: 56.2 % of 16\n",
      "   Departamento de Educación Médica: 50.0 % of 22\n",
      "   Departamento de Medicina Física y Rehabilitación: 58.3 % of 12\n",
      "   Departamento de Patología: 42.9 % of 7\n",
      "   Departamento de Medicina Preventiva y Salud Pública: 66.7 % of 21\n",
      "   Departamento de Radiología y Radioterapia: 45.5 % of 11\n",
      "unknown: 47.9 % of 1914\n",
      "   unknown: 47.9 % of 1914\n",
      "Escuela de Microbiología: 64.8 % of 88\n",
      "   Departamento de Formación Académica: 64.8 % of 88\n",
      "Facultad de Ciencias Agrarias: 40.9 % of 93\n",
      "   Departamento de  Producción Agropecuaria: 35.5 % of 31\n",
      "   Escuela de Medicina Veterinaria: 42.1 % of 57\n",
      "   Escuela de Producción Agropecuaria: 60.0 % of 5\n",
      "Facultad de Ingeniería: 28.8 % of 313\n",
      "   Departamento de Ingeniería Metalúrgica: 26.5 % of 34\n",
      "   Departamento de Ingeniería Mecánica: 9.5 % of 21\n",
      "   Departamento de Ingeniería Sanitaria  y Ambiental: 33.3 % of 42\n",
      "   Departamento de Ingeniería Quimica: 32.1 % of 28\n",
      "   Programa Bioingeniería: 40.9 % of 22\n",
      "   Departamento de Ingeniería Química: 75.0 % of 12\n",
      "   Departamento de Ingeniería Eléctrica: 5.3 % of 19\n",
      "   Departamento de Ingeniería Electrónica: 17.4 % of 23\n",
      "   Programa Ingeniería de Telecomunicaciones: 11.1 % of 18\n",
      "   Programa Ingeniería Civil: 46.2 % of 13\n",
      "   Departamento de Ingeniería Sanitaria y Ambiental: 22.2 % of 9\n",
      "   Departamento de Ingeniería Industrial: 33.3 % of 33\n",
      "   Departamento de Ingeniería de Sistemas: 30.0 % of 30\n",
      "   Decanatura Facultad de Ingeniería: 37.5 % of 8\n",
      "   Programa de Ingeniería de Telecomunicaciones: 0.0 % of 1\n",
      "Escuela de Nutrición y Dietética: 81.1 % of 53\n",
      "   Departamento de Formación Académica: 81.1 % of 53\n",
      "Facultad de Ciencias Farmacéuticas y Alimentarias: 53.8 % of 78\n",
      "   Departamento de Farmacia: 45.8 % of 48\n",
      "   Departamento de Alimentos: 66.7 % of 30\n",
      "Facultad de Odontología: 52.3 % of 86\n",
      "   Departamento de Estudios Básicos Integrados: 52.3 % of 86\n",
      "Facultad de Ciencias Sociales y Humanas: 48.9 % of 182\n",
      "   Departamento de Historia: 45.5 % of 33\n",
      "   Departamento de Antropología: 54.5 % of 33\n",
      "   Departamento de Sicología: 48.5 % of 33\n",
      "   Departamento de Trabajo Social: 69.7 % of 33\n",
      "   Departamento de Sociología: 27.6 % of 29\n",
      "   Decanatura Facultad de Ciencias Sociales y Humanas: 60.0 % of 5\n",
      "   Departamento de Psicoanálisis: 40.0 % of 15\n",
      "   Centro de Investigación y Extensión en Ciencias Sociales y Humanas: 0.0 % of 1\n",
      "Facultad Nacional de Salud Pública: 45.7 % of 92\n",
      "   Departamento de Ciencias Específicas: 43.6 % of 39\n",
      "   Departamento de Ciencias Básicas: 48.1 % of 52\n",
      "   Decanatura Facultad Nacional de Salud Pública: 0.0 % of 1\n",
      "Corporación Ambiental: 37.5 % of 8\n",
      "   unknown: 28.6 % of 7\n",
      "   Programa Regionalización Urabá: 100.0 % of 1\n",
      "Facultad de Educación: 64.0 % of 125\n",
      "   Departamento de Pedagogía: 56.8 % of 44\n",
      "   Departamento de Enseñanza de las Ciencias y las Artes: 58.1 % of 43\n",
      "   Departamento de Educación Infantil: 87.9 % of 33\n",
      "   Departamento Educación Avanzada: 33.3 % of 3\n",
      "   Centro de Educación A Distancia: 0.0 % of 1\n",
      "   Departamento de Extensión y Educación A Distancia: 0.0 % of 1\n",
      "Facultad de Enfermería: 74.2 % of 93\n",
      "   Departamento de Formación Básica Profesional: 71.4 % of 63\n",
      "   Departamento de Extensión y Posgrados: 81.8 % of 11\n",
      "   Departamento de Formación Profesional: 83.3 % of 18\n",
      "   Decanatura de Enfermería: 0.0 % of 1\n",
      "Facultad de Ciencias Económicas: 26.1 % of 119\n",
      "   Departamento de Ciencias Administrativas: 30.8 % of 39\n",
      "   Departamento de Economía: 24.3 % of 37\n",
      "   Departamento de Estadísticas y Matemáticas: 0.0 % of 7\n",
      "   Departamento de Ciencias Económicas: 25.0 % of 8\n",
      "   Departamento de Ciencias Contables: 26.9 % of 26\n",
      "   Decanatura Facultad de Ciencias Económicas: 50.0 % of 2\n",
      "Instituto de Filosofía: 23.9 % of 46\n",
      "   Departamento de Formación Académica: 22.2 % of 45\n",
      "   Dirección Instituto de Filosofía: 100.0 % of 1\n",
      "Escuela de Idiomas: 57.8 % of 64\n",
      "   Departamento de Formación Académica: 57.5 % of 40\n",
      "   Sección de Servicios y Extensión: 58.3 % of 24\n",
      "Dirección de Regionalización: 43.2 % of 44\n",
      "   Programa Regionalización Oriente: 45.0 % of 20\n",
      "   Programa Regionalización Urabá: 35.7 % of 14\n",
      "   Programa Regionalización Suroeste: 25.0 % of 4\n",
      "   Programa Regionalización Bajo Cauca: 66.7 % of 6\n",
      "Facultad de Comunicaciones y Filología: 47.4 % of 114\n",
      "   Departamento de Formación Académica: 47.4 % of 76\n",
      "   Departamento de Comunicación Social: 50.0 % of 20\n",
      "   Decanatura Facultad de Comunicaciones: 100.0 % of 1\n",
      "   Departamento de Lingüística y Literatura: 41.2 % of 17\n",
      "Facultad de Artes: 56.2 % of 73\n",
      "   Departamento de Música: 33.3 % of 18\n",
      "   Departamento de Artes Visuales: 55.3 % of 38\n",
      "   Departamento de Teatro: 82.4 % of 17\n",
      "Instituto de Estudios Políticos: 42.3 % of 26\n",
      "   unknown: 42.3 % of 26\n",
      "Facultad de Derecho: 53.1 % of 81\n",
      "   Departamento de Formación Universitaria: 48.2 % of 56\n",
      "   Departamento de Prácticas: 70.0 % of 10\n",
      "   Sección de Derecho Político, Ciencias Políticas, Penal y Procesal: 25.0 % of 4\n",
      "   Sección de Derecho Privado y Laboral: 62.5 % of 8\n",
      "   Centro de Investigaciones en Derecho: 100.0 % of 1\n",
      "   Sección de Derecho Político, Ciencias Políticas: 100.0 % of 2\n",
      "Escuela Interamericana de Bibliotecología: 59.5 % of 37\n",
      "   Dirección Escuela de Bibliotecología: 66.7 % of 33\n",
      "   Escuela de Bibliotecología: 0.0 % of 4\n",
      "Instituto de Educación Física: 40.7 % of 54\n",
      "   Departamento de Educación Física y Extensión: 41.5 % of 53\n",
      "   Sección de Medicina Deportiva: 0.0 % of 1\n",
      "Instituto de Estudios Regionales: 54.2 % of 24\n",
      "   Programa de Investigación: 66.7 % of 6\n",
      "   unknown: 50.0 % of 18\n"
     ]
    }
   ],
   "source": [
    "fm = udea['sex'].value_counts()\n",
    "print(f\"UdeA: {round(fm['mujer']/(fm['mujer']+fm['hombre'])*100,1)} % of {fm['mujer']+fm['hombre']}\")\n",
    "for f in udea.faculty.unique() :\n",
    "    udea_f = udea[udea['faculty'] == f]\n",
    "    fm = udea_f['sex'].value_counts()\n",
    "    if not fm.get('mujer'):\n",
    "        fm['mujer'] = 0\n",
    "    if not fm.get('hombre'):\n",
    "        fm['hombre'] = 0        \n",
    "    print(f\"{f}: {round(fm['mujer']/(fm['mujer']+fm['hombre'])*100,1)} % of {fm['mujer']+fm['hombre']}\")\n",
    "    for ff in  udea_f.department.unique():\n",
    "        udea_d = udea[ ((udea['faculty'] == f) & (udea['department'] == ff)) ]\n",
    "        fm = udea_d['sex'].value_counts()\n",
    "        if not fm.get('mujer'):\n",
    "            fm['mujer'] = 0\n",
    "        if not fm.get('hombre'):\n",
    "            fm['hombre'] = 0        \n",
    "        print(f\"   {ff}: {round(fm['mujer']/(fm['mujer']+fm['hombre'])*100,1)} % of {fm['mujer']+fm['hombre']}\")\n",
    "\n",
    "    #if f == 'Escuela de Microbiología':\n",
    "    #    break"
   ]
  },
  {
   "cell_type": "code",
   "execution_count": 642,
   "id": "6f1935f5-ca96-43b2-9129-c8110c0edf36",
   "metadata": {},
   "outputs": [
    {
     "name": "stdout",
     "output_type": "stream",
     "text": [
      "AUXILIAR: 46.5 % of 1287\n",
      "ASISTENTE: 46.8 % of 1973\n",
      "ASOCIADO: 43.0 % of 1185\n",
      "TITULAR: 41.2 % of 808\n"
     ]
    }
   ],
   "source": [
    "for r in [ 'AUXILIAR' , 'ASISTENTE','ASOCIADO','TITULAR']:\n",
    "    fm = udea[udea['ranking'].apply(lambda L: r in [d.get('rank') for d in L])]['sex'].value_counts()\n",
    "    print(f\"{r}: {round(fm['mujer']/(fm['mujer']+fm['hombre'])*100,1)} % of {fm['mujer']+fm['hombre']}\")"
   ]
  },
  {
   "cell_type": "code",
   "execution_count": 643,
   "id": "feec00da-8def-4aed-a0d5-b4d8818837fb",
   "metadata": {},
   "outputs": [],
   "source": [
    "f = 'Facultad de Ciencias Exactas y Naturales'\n",
    "ff = 'Instituto de Física'\n",
    "udea_f = udea[ ((udea['faculty'] == f)) ]\n",
    "udea_d = udea[ ((udea['faculty'] == f) & (udea['department'] == ff)) ]"
   ]
  },
  {
   "cell_type": "code",
   "execution_count": 644,
   "id": "363a4d30-11be-4e4e-8f6c-b70e3a761348",
   "metadata": {},
   "outputs": [
    {
     "name": "stdout",
     "output_type": "stream",
     "text": [
      "AUXILIAR: 25.5 % of 110\n",
      "ASISTENTE: 26.6 % of 207\n",
      "ASOCIADO: 21.4 % of 126\n",
      "TITULAR: 20.0 % of 95\n"
     ]
    }
   ],
   "source": [
    "for r in [ 'AUXILIAR' , 'ASISTENTE','ASOCIADO','TITULAR']:\n",
    "    fm = udea_f[udea_f['ranking'].apply(lambda L: r in [d.get('rank') for d in L])]['sex'].value_counts()\n",
    "    print(f\"{r}: {round(fm['mujer']/(fm['mujer']+fm['hombre'])*100,1)} % of {fm['mujer']+fm['hombre']}\")"
   ]
  },
  {
   "cell_type": "code",
   "execution_count": 645,
   "id": "1a32cf87-ef85-4eec-99f2-84e171855508",
   "metadata": {},
   "outputs": [
    {
     "name": "stdout",
     "output_type": "stream",
     "text": [
      "AUXILIAR: 12.0 % of 25\n",
      "ASISTENTE: 11.1 % of 54\n",
      "ASOCIADO: 3.1 % of 32\n",
      "TITULAR: 3.6 % of 28\n"
     ]
    }
   ],
   "source": [
    "for r in [ 'AUXILIAR' , 'ASISTENTE','ASOCIADO','TITULAR']:\n",
    "    fm = udea_d[udea_d['ranking'].apply(lambda L: r in [d.get('rank') for d in L])]['sex'].value_counts()\n",
    "    print(f\"{r}: {round(fm['mujer']/(fm['mujer']+fm['hombre'])*100,1)} % of {fm['mujer']+fm['hombre']}\")"
   ]
  },
  {
   "cell_type": "code",
   "execution_count": 440,
   "id": "650d2d37-cbfc-46c3-aa41-55d6423fe64e",
   "metadata": {},
   "outputs": [],
   "source": [
    "import matplotlib.pyplot as plt\n",
    "import numpy as np"
   ]
  },
  {
   "cell_type": "code",
   "execution_count": 475,
   "id": "c5e7fd9f-fc63-4ce7-8723-38ca730e09ff",
   "metadata": {},
   "outputs": [
    {
     "data": {
      "image/png": "[encoded data removed]",
      "text/plain": [
       "<Figure size 640x480 with 1 Axes>"
      ]
     },
     "metadata": {},
     "output_type": "display_data"
    }
   ],
   "source": [
    "kk = udea['age'].sort_values().dropna().astype(int).value_counts()\n",
    "\n",
    "age = pd.DataFrame()\n",
    "\n",
    "age['age'] = kk.keys()\n",
    "\n",
    "age['counts'] = kk.values\n",
    "\n",
    "age = age.sort_values('age')\n",
    "\n",
    "plt.bar(age['age'],age['counts'])\n",
    "plt.xlabel('Edad', size = 12)\n",
    "plt.ylabel('Profesores', size = 12)\n",
    "plt.title('Distribución de edad profesores UdeA')\n",
    "plt.grid()"
   ]
  },
  {
   "cell_type": "code",
   "execution_count": 483,
   "id": "ee4cb691-b8ec-408d-9b96-07bd5862b99a",
   "metadata": {},
   "outputs": [],
   "source": [
    "f = 'Facultad de Ciencias Exactas y Naturales'\n",
    "ff = 'Instituto de Física'\n",
    "udea_f = udea[ ((udea['faculty'] == f)) ]\n",
    "udea_d = udea[ ((udea['faculty'] == f) & (udea['department'] == ff)) ]"
   ]
  },
  {
   "cell_type": "code",
   "execution_count": 487,
   "id": "9c10ab2e-f3ff-4c0f-ab82-80728ad43940",
   "metadata": {},
   "outputs": [
    {
     "data": {
      "image/png": "[encoded data removed]",
      "text/plain": [
       "<Figure size 640x480 with 1 Axes>"
      ]
     },
     "metadata": {},
     "output_type": "display_data"
    }
   ],
   "source": [
    "kk = udea_f['age'].sort_values().dropna().astype(int).value_counts()\n",
    "\n",
    "age = pd.DataFrame()\n",
    "\n",
    "age['age'] = kk.keys()\n",
    "\n",
    "age['counts'] = kk.values\n",
    "\n",
    "age = age.sort_values('age')\n",
    "\n",
    "plt.bar(age['age'],age['counts'])\n",
    "plt.xlabel('Edad', size = 12)\n",
    "plt.ylabel('Profesores', size = 12)\n",
    "plt.title('Distribución de edad profesores FCEN')\n",
    "plt.grid()"
   ]
  },
  {
   "cell_type": "code",
   "execution_count": 488,
   "id": "e6d3f366-93ea-4278-aa75-71aa41b89bb1",
   "metadata": {},
   "outputs": [
    {
     "data": {
      "image/png": "[encoded data removed]",
      "text/plain": [
       "<Figure size 640x480 with 1 Axes>"
      ]
     },
     "metadata": {},
     "output_type": "display_data"
    }
   ],
   "source": [
    "kk = udea_d['age'].sort_values().dropna().astype(int).value_counts()\n",
    "\n",
    "age = pd.DataFrame()\n",
    "\n",
    "age['age'] = kk.keys()\n",
    "\n",
    "age['counts'] = kk.values\n",
    "\n",
    "age = age.sort_values('age')\n",
    "\n",
    "plt.bar(age['age'],age['counts'])\n",
    "plt.xlabel('Edad', size = 12)\n",
    "plt.ylabel('Profesores', size = 12)\n",
    "plt.title('Distribución de edad profesores Instituto de Física')\n",
    "plt.grid()"
   ]
  },
  {
   "cell_type": "code",
   "execution_count": null,
   "id": "1e14887a-a3e0-487a-92e8-3acec53d96bf",
   "metadata": {},
   "outputs": [],
   "source": []
  }
 ],
 "metadata": {
  "kernelspec": {
   "display_name": "Python 3 (ipykernel)",
   "language": "python",
   "name": "python3"
  },
  "language_info": {
   "codemirror_mode": {
    "name": "ipython",
    "version": 3
   },
   "file_extension": ".py",
   "mimetype": "text/x-python",
   "name": "python",
   "nbconvert_exporter": "python",
   "pygments_lexer": "ipython3",
   "version": "3.11.2"
  }
 },
 "nbformat": 4,
 "nbformat_minor": 5
}
